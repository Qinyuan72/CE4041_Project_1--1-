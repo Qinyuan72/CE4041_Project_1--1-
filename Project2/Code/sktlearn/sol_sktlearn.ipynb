{
 "cells": [
  {
   "cell_type": "code",
   "execution_count": null,
   "metadata": {},
   "outputs": [
    {
     "name": "stdout",
     "output_type": "stream",
     "text": [
      "Sktlearn AdaBoost Classifier Accuracy: 0.9683\n"
     ]
    }
   ],
   "source": [
    "import numpy as np\n",
    "import pandas as pd\n",
    "from sklearn.tree import DecisionTreeClassifier\n",
    "from sklearn.ensemble import AdaBoostClassifier\n",
    "from sklearn.metrics import accuracy_score\n",
    "\n",
    "# Load data\n",
    "train_file = '../Datasets/adaboost-train-24.txt'\n",
    "test_file = '../Datasets/adaboost-test-24.txt'\n",
    "column_names = ['X1', 'X2', 'Y']\n",
    "df_train = pd.read_csv(train_file, sep=r'\\s+', header=None, names=column_names)\n",
    "df_test = pd.read_csv(test_file, sep=r'\\s+', header=None, names=column_names)\n",
    "\n",
    "X_train = df_train[['X1', 'X2']].to_numpy()\n",
    "Y_train = df_train['Y'].to_numpy()\n",
    "X_test = df_test[['X1', 'X2']].to_numpy()\n",
    "Y_test = df_test['Y'].to_numpy()\n",
    "\n",
    "num_samples = X_train.shape[0]\n",
    "sample_weights = np.ones(num_samples) / num_samples\n",
    "clf = DecisionTreeClassifier(max_depth=1)\n",
    "clf.fit(X_train, Y_train, sample_weight=sample_weights)\n",
    "\n",
    "y_pred = clf.predict(X_test)\n",
    "# print(\"Predictions:\", y_pred)\n",
    "\n",
    "# Number of classifiers we want\n",
    "num_classifiers = 50\n",
    "\n",
    "######################################################\n",
    "# above the # we can reuse.\n",
    "\n",
    "\n",
    "# A: Weighted weak linear classifier (wwlc) - note we need to do our implementation of this\n",
    "wwlc = DecisionTreeClassifier(max_depth=1)\n",
    "\n",
    "# B: AdaBoost algorithm - note we need to do our implementation of this, including fit and predict functions.\n",
    "ada_boost = AdaBoostClassifier(estimator=wwlc, \n",
    "                               n_estimators=num_classifiers, \n",
    "                               algorithm='SAMME', \n",
    "                               learning_rate=1.0, \n",
    "                               random_state=42)\n",
    "\n",
    "# Train\n",
    "ada_boost.fit(X_train, Y_train)\n",
    "\n",
    "# Prediction\n",
    "y_pred = ada_boost.predict(X_test)\n",
    "\n",
    "# Accuracy score\n",
    "accuracy = accuracy_score(Y_test, y_pred)\n",
    "print(f\"Sktlearn AdaBoost Classifier Accuracy: {accuracy:.4f}\")\n",
    "\n",
    "# For A:\n",
    "# step 1 - use above code and observe how the sktlearn DecisionTreeClassifier & AdaBoostClassifier behave\n",
    "# step 2 - replace DecisionTreeClassifier with our wwlc implementation, and test using the sktlearn AdaBoostClassifier\n",
    "# step 3 - replace AdaBoostClassifier with our implementation of the adaboost algorithm and test.\n",
    "#          if needed this step can be 3a. test our algorithm with sktlean DecisionTreeClassifier, 3b test our algorithm with our wwlc\n",
    "# note the accuracy score output from running above code is 0.9683. That should be our target.\n",
    "\n",
    "\n"
   ]
  }
 ],
 "metadata": {
  "kernelspec": {
   "display_name": "project2",
   "language": "python",
   "name": "python3"
  },
  "language_info": {
   "codemirror_mode": {
    "name": "ipython",
    "version": 3
   },
   "file_extension": ".py",
   "mimetype": "text/x-python",
   "name": "python",
   "nbconvert_exporter": "python",
   "pygments_lexer": "ipython3",
   "version": "3.12.4"
  }
 },
 "nbformat": 4,
 "nbformat_minor": 2
}
