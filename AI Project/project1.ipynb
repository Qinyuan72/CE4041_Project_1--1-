{
 "cells": [
  {
   "cell_type": "markdown",
   "metadata": {
    "id": "DBlGUlanfAnm"
   },
   "source": [
    "# Version  \n",
    "** 1.2 **  \n",
    "1.2 Support for EXPLORE_MODE, allowing for succinct or full logging of data  \n",
    "1.1 Added plot support  \n",
    "1.0 1st release after review.  \n",
    "\n",
    "\n",
    "\n",
    "\n",
    "This is just an increasing number. If you make a change increase the number - major.minor  \n",
    "\n",
    "\n",
    "Develop a program in Python using the Keras Neural Network to implement a classifier fot the NMIST handwritten digits database. It is recommended to use a convolution neural network."
   ]
  },
  {
   "cell_type": "markdown",
   "metadata": {},
   "source": [
    "# Project Team  \n",
    "Qinyuan                 20137095  \n",
    "Eamon Moloney           8457077  \n",
    "Ibrahim Saana Aminu     25381993  \n",
    "Des Powell              9513833  \n",
    "Terence Coffey          15223124  "
   ]
  },
  {
   "cell_type": "code",
   "execution_count": 1,
   "metadata": {},
   "outputs": [
    {
     "name": "stderr",
     "output_type": "stream",
     "text": [
      "2024-11-10 14:42:43.988742: I tensorflow/core/util/port.cc:153] oneDNN custom operations are on. You may see slightly different numerical results due to floating-point round-off errors from different computation orders. To turn them off, set the environment variable `TF_ENABLE_ONEDNN_OPTS=0`.\n",
      "2024-11-10 14:42:43.997576: E external/local_xla/xla/stream_executor/cuda/cuda_fft.cc:477] Unable to register cuFFT factory: Attempting to register factory for plugin cuFFT when one has already been registered\n",
      "WARNING: All log messages before absl::InitializeLog() is called are written to STDERR\n",
      "E0000 00:00:1731249764.007682 1132581 cuda_dnn.cc:8310] Unable to register cuDNN factory: Attempting to register factory for plugin cuDNN when one has already been registered\n",
      "E0000 00:00:1731249764.010640 1132581 cuda_blas.cc:1418] Unable to register cuBLAS factory: Attempting to register factory for plugin cuBLAS when one has already been registered\n",
      "2024-11-10 14:42:44.021727: I tensorflow/core/platform/cpu_feature_guard.cc:210] This TensorFlow binary is optimized to use available CPU instructions in performance-critical operations.\n",
      "To enable the following instructions: AVX2 AVX_VNNI FMA, in other operations, rebuild TensorFlow with the appropriate compiler flags.\n"
     ]
    },
    {
     "name": "stdout",
     "output_type": "stream",
     "text": [
      "Start Run #1 of 3\n"
     ]
    },
    {
     "name": "stderr",
     "output_type": "stream",
     "text": [
      "2024-11-10 14:42:46.095899: E external/local_xla/xla/stream_executor/cuda/cuda_driver.cc:152] failed call to cuInit: INTERNAL: CUDA error: Failed call to cuInit: CUDA_ERROR_UNKNOWN: unknown error\n",
      "2024-11-10 14:42:46.095926: I external/local_xla/xla/stream_executor/cuda/cuda_diagnostics.cc:137] retrieving CUDA diagnostic information for host: emstudy\n",
      "2024-11-10 14:42:46.095932: I external/local_xla/xla/stream_executor/cuda/cuda_diagnostics.cc:144] hostname: emstudy\n",
      "2024-11-10 14:42:46.096094: I external/local_xla/xla/stream_executor/cuda/cuda_diagnostics.cc:168] libcuda reported version is: 560.35.3\n",
      "2024-11-10 14:42:46.096110: I external/local_xla/xla/stream_executor/cuda/cuda_diagnostics.cc:172] kernel reported version is: 560.35.3\n",
      "2024-11-10 14:42:46.096114: I external/local_xla/xla/stream_executor/cuda/cuda_diagnostics.cc:259] kernel version seems to match DSO: 560.35.3\n"
     ]
    },
    {
     "name": "stdout",
     "output_type": "stream",
     "text": [
      "Epoch 1/30\n",
      "\u001b[1m1500/1500\u001b[0m \u001b[32m━━━━━━━━━━━━━━━━━━━━\u001b[0m\u001b[37m\u001b[0m \u001b[1m20s\u001b[0m 12ms/step - accuracy: 0.6956 - loss: 0.9570 - precision: 0.8789 - recall: 0.5324 - val_accuracy: 0.9607 - val_loss: 0.1406 - val_precision: 0.9708 - val_recall: 0.9514\n",
      "Epoch 2/30\n",
      "\u001b[1m1500/1500\u001b[0m \u001b[32m━━━━━━━━━━━━━━━━━━━━\u001b[0m\u001b[37m\u001b[0m \u001b[1m16s\u001b[0m 11ms/step - accuracy: 0.9419 - loss: 0.1867 - precision: 0.9553 - recall: 0.9303 - val_accuracy: 0.9742 - val_loss: 0.0897 - val_precision: 0.9787 - val_recall: 0.9700\n",
      "Epoch 3/30\n",
      "\u001b[1m1500/1500\u001b[0m \u001b[32m━━━━━━━━━━━━━━━━━━━━\u001b[0m\u001b[37m\u001b[0m \u001b[1m16s\u001b[0m 11ms/step - accuracy: 0.9598 - loss: 0.1250 - precision: 0.9674 - recall: 0.9541 - val_accuracy: 0.9787 - val_loss: 0.0713 - val_precision: 0.9824 - val_recall: 0.9766\n",
      "Epoch 4/30\n",
      "\u001b[1m1500/1500\u001b[0m \u001b[32m━━━━━━━━━━━━━━━━━━━━\u001b[0m\u001b[37m\u001b[0m \u001b[1m12s\u001b[0m 8ms/step - accuracy: 0.9705 - loss: 0.0934 - precision: 0.9755 - recall: 0.9662 - val_accuracy: 0.9817 - val_loss: 0.0594 - val_precision: 0.9852 - val_recall: 0.9796\n",
      "Epoch 5/30\n",
      "\u001b[1m1500/1500\u001b[0m \u001b[32m━━━━━━━━━━━━━━━━━━━━\u001b[0m\u001b[37m\u001b[0m \u001b[1m10s\u001b[0m 6ms/step - accuracy: 0.9742 - loss: 0.0813 - precision: 0.9785 - recall: 0.9705 - val_accuracy: 0.9835 - val_loss: 0.0526 - val_precision: 0.9864 - val_recall: 0.9823\n",
      "Epoch 6/30\n",
      "\u001b[1m1500/1500\u001b[0m \u001b[32m━━━━━━━━━━━━━━━━━━━━\u001b[0m\u001b[37m\u001b[0m \u001b[1m13s\u001b[0m 9ms/step - accuracy: 0.9798 - loss: 0.0674 - precision: 0.9827 - recall: 0.9766 - val_accuracy: 0.9848 - val_loss: 0.0480 - val_precision: 0.9874 - val_recall: 0.9834\n",
      "Epoch 7/30\n",
      "\u001b[1m1500/1500\u001b[0m \u001b[32m━━━━━━━━━━━━━━━━━━━━\u001b[0m\u001b[37m\u001b[0m \u001b[1m17s\u001b[0m 11ms/step - accuracy: 0.9808 - loss: 0.0626 - precision: 0.9827 - recall: 0.9787 - val_accuracy: 0.9862 - val_loss: 0.0434 - val_precision: 0.9887 - val_recall: 0.9852\n",
      "Epoch 8/30\n",
      "\u001b[1m1500/1500\u001b[0m \u001b[32m━━━━━━━━━━━━━━━━━━━━\u001b[0m\u001b[37m\u001b[0m \u001b[1m9s\u001b[0m 6ms/step - accuracy: 0.9837 - loss: 0.0548 - precision: 0.9859 - recall: 0.9816 - val_accuracy: 0.9869 - val_loss: 0.0427 - val_precision: 0.9892 - val_recall: 0.9857\n",
      "Epoch 9/30\n",
      "\u001b[1m1500/1500\u001b[0m \u001b[32m━━━━━━━━━━━━━━━━━━━━\u001b[0m\u001b[37m\u001b[0m \u001b[1m9s\u001b[0m 6ms/step - accuracy: 0.9842 - loss: 0.0498 - precision: 0.9865 - recall: 0.9826 - val_accuracy: 0.9880 - val_loss: 0.0391 - val_precision: 0.9902 - val_recall: 0.9868\n",
      "Epoch 10/30\n",
      "\u001b[1m1500/1500\u001b[0m \u001b[32m━━━━━━━━━━━━━━━━━━━━\u001b[0m\u001b[37m\u001b[0m \u001b[1m9s\u001b[0m 6ms/step - accuracy: 0.9860 - loss: 0.0447 - precision: 0.9880 - recall: 0.9848 - val_accuracy: 0.9889 - val_loss: 0.0377 - val_precision: 0.9906 - val_recall: 0.9879\n",
      "Epoch 11/30\n",
      "\u001b[1m1500/1500\u001b[0m \u001b[32m━━━━━━━━━━━━━━━━━━━━\u001b[0m\u001b[37m\u001b[0m \u001b[1m9s\u001b[0m 6ms/step - accuracy: 0.9871 - loss: 0.0434 - precision: 0.9884 - recall: 0.9858 - val_accuracy: 0.9897 - val_loss: 0.0374 - val_precision: 0.9906 - val_recall: 0.9883\n",
      "Epoch 12/30\n",
      "\u001b[1m1500/1500\u001b[0m \u001b[32m━━━━━━━━━━━━━━━━━━━━\u001b[0m\u001b[37m\u001b[0m \u001b[1m9s\u001b[0m 6ms/step - accuracy: 0.9884 - loss: 0.0376 - precision: 0.9897 - recall: 0.9869 - val_accuracy: 0.9899 - val_loss: 0.0357 - val_precision: 0.9910 - val_recall: 0.9893\n",
      "Epoch 13/30\n",
      "\u001b[1m1500/1500\u001b[0m \u001b[32m━━━━━━━━━━━━━━━━━━━━\u001b[0m\u001b[37m\u001b[0m \u001b[1m9s\u001b[0m 6ms/step - accuracy: 0.9885 - loss: 0.0367 - precision: 0.9901 - recall: 0.9873 - val_accuracy: 0.9894 - val_loss: 0.0373 - val_precision: 0.9904 - val_recall: 0.9886\n",
      "Epoch 14/30\n",
      "\u001b[1m1500/1500\u001b[0m \u001b[32m━━━━━━━━━━━━━━━━━━━━\u001b[0m\u001b[37m\u001b[0m \u001b[1m9s\u001b[0m 6ms/step - accuracy: 0.9894 - loss: 0.0345 - precision: 0.9906 - recall: 0.9882 - val_accuracy: 0.9904 - val_loss: 0.0335 - val_precision: 0.9917 - val_recall: 0.9899\n",
      "Epoch 15/30\n",
      "\u001b[1m1500/1500\u001b[0m \u001b[32m━━━━━━━━━━━━━━━━━━━━\u001b[0m\u001b[37m\u001b[0m \u001b[1m9s\u001b[0m 6ms/step - accuracy: 0.9899 - loss: 0.0309 - precision: 0.9909 - recall: 0.9893 - val_accuracy: 0.9901 - val_loss: 0.0351 - val_precision: 0.9910 - val_recall: 0.9894\n",
      "Epoch 16/30\n",
      "\u001b[1m1500/1500\u001b[0m \u001b[32m━━━━━━━━━━━━━━━━━━━━\u001b[0m\u001b[37m\u001b[0m \u001b[1m9s\u001b[0m 6ms/step - accuracy: 0.9899 - loss: 0.0314 - precision: 0.9910 - recall: 0.9890 - val_accuracy: 0.9904 - val_loss: 0.0324 - val_precision: 0.9913 - val_recall: 0.9898\n",
      "Epoch 17/30\n",
      "\u001b[1m1500/1500\u001b[0m \u001b[32m━━━━━━━━━━━━━━━━━━━━\u001b[0m\u001b[37m\u001b[0m \u001b[1m9s\u001b[0m 6ms/step - accuracy: 0.9911 - loss: 0.0277 - precision: 0.9922 - recall: 0.9903 - val_accuracy: 0.9909 - val_loss: 0.0322 - val_precision: 0.9917 - val_recall: 0.9902\n",
      "Epoch 18/30\n",
      "\u001b[1m1500/1500\u001b[0m \u001b[32m━━━━━━━━━━━━━━━━━━━━\u001b[0m\u001b[37m\u001b[0m \u001b[1m9s\u001b[0m 6ms/step - accuracy: 0.9915 - loss: 0.0266 - precision: 0.9925 - recall: 0.9906 - val_accuracy: 0.9913 - val_loss: 0.0311 - val_precision: 0.9924 - val_recall: 0.9907\n",
      "Epoch 19/30\n",
      "\u001b[1m1500/1500\u001b[0m \u001b[32m━━━━━━━━━━━━━━━━━━━━\u001b[0m\u001b[37m\u001b[0m \u001b[1m9s\u001b[0m 6ms/step - accuracy: 0.9928 - loss: 0.0234 - precision: 0.9936 - recall: 0.9919 - val_accuracy: 0.9914 - val_loss: 0.0303 - val_precision: 0.9923 - val_recall: 0.9908\n",
      "Epoch 20/30\n",
      "\u001b[1m1500/1500\u001b[0m \u001b[32m━━━━━━━━━━━━━━━━━━━━\u001b[0m\u001b[37m\u001b[0m \u001b[1m9s\u001b[0m 6ms/step - accuracy: 0.9924 - loss: 0.0248 - precision: 0.9931 - recall: 0.9918 - val_accuracy: 0.9914 - val_loss: 0.0313 - val_precision: 0.9922 - val_recall: 0.9909\n",
      "Epoch 21/30\n",
      "\u001b[1m1500/1500\u001b[0m \u001b[32m━━━━━━━━━━━━━━━━━━━━\u001b[0m\u001b[37m\u001b[0m \u001b[1m9s\u001b[0m 6ms/step - accuracy: 0.9933 - loss: 0.0231 - precision: 0.9938 - recall: 0.9923 - val_accuracy: 0.9910 - val_loss: 0.0324 - val_precision: 0.9919 - val_recall: 0.9904\n",
      "Epoch 22/30\n",
      "\u001b[1m1500/1500\u001b[0m \u001b[32m━━━━━━━━━━━━━━━━━━━━\u001b[0m\u001b[37m\u001b[0m \u001b[1m9s\u001b[0m 6ms/step - accuracy: 0.9933 - loss: 0.0205 - precision: 0.9939 - recall: 0.9923 - val_accuracy: 0.9916 - val_loss: 0.0317 - val_precision: 0.9922 - val_recall: 0.9912\n",
      "Epoch 23/30\n",
      "\u001b[1m1500/1500\u001b[0m \u001b[32m━━━━━━━━━━━━━━━━━━━━\u001b[0m\u001b[37m\u001b[0m \u001b[1m9s\u001b[0m 6ms/step - accuracy: 0.9936 - loss: 0.0205 - precision: 0.9940 - recall: 0.9932 - val_accuracy: 0.9913 - val_loss: 0.0310 - val_precision: 0.9919 - val_recall: 0.9907\n",
      "Epoch 24/30\n",
      "\u001b[1m1500/1500\u001b[0m \u001b[32m━━━━━━━━━━━━━━━━━━━━\u001b[0m\u001b[37m\u001b[0m \u001b[1m9s\u001b[0m 6ms/step - accuracy: 0.9942 - loss: 0.0190 - precision: 0.9945 - recall: 0.9937 - val_accuracy: 0.9905 - val_loss: 0.0322 - val_precision: 0.9914 - val_recall: 0.9899\n",
      "Epoch 25/30\n",
      "\u001b[1m1500/1500\u001b[0m \u001b[32m━━━━━━━━━━━━━━━━━━━━\u001b[0m\u001b[37m\u001b[0m \u001b[1m9s\u001b[0m 6ms/step - accuracy: 0.9936 - loss: 0.0190 - precision: 0.9942 - recall: 0.9933 - val_accuracy: 0.9914 - val_loss: 0.0316 - val_precision: 0.9923 - val_recall: 0.9912\n",
      "Epoch 26/30\n",
      "\u001b[1m1500/1500\u001b[0m \u001b[32m━━━━━━━━━━━━━━━━━━━━\u001b[0m\u001b[37m\u001b[0m \u001b[1m9s\u001b[0m 6ms/step - accuracy: 0.9941 - loss: 0.0177 - precision: 0.9948 - recall: 0.9938 - val_accuracy: 0.9913 - val_loss: 0.0311 - val_precision: 0.9917 - val_recall: 0.9909\n",
      "Epoch 27/30\n",
      "\u001b[1m1500/1500\u001b[0m \u001b[32m━━━━━━━━━━━━━━━━━━━━\u001b[0m\u001b[37m\u001b[0m \u001b[1m9s\u001b[0m 6ms/step - accuracy: 0.9947 - loss: 0.0171 - precision: 0.9952 - recall: 0.9942 - val_accuracy: 0.9912 - val_loss: 0.0314 - val_precision: 0.9921 - val_recall: 0.9910\n",
      "Epoch 28/30\n",
      "\u001b[1m1500/1500\u001b[0m \u001b[32m━━━━━━━━━━━━━━━━━━━━\u001b[0m\u001b[37m\u001b[0m \u001b[1m9s\u001b[0m 6ms/step - accuracy: 0.9947 - loss: 0.0166 - precision: 0.9950 - recall: 0.9941 - val_accuracy: 0.9915 - val_loss: 0.0300 - val_precision: 0.9925 - val_recall: 0.9912\n",
      "Epoch 29/30\n",
      "\u001b[1m1500/1500\u001b[0m \u001b[32m━━━━━━━━━━━━━━━━━━━━\u001b[0m\u001b[37m\u001b[0m \u001b[1m9s\u001b[0m 6ms/step - accuracy: 0.9952 - loss: 0.0149 - precision: 0.9954 - recall: 0.9949 - val_accuracy: 0.9916 - val_loss: 0.0310 - val_precision: 0.9923 - val_recall: 0.9914\n",
      "Epoch 30/30\n",
      "\u001b[1m1500/1500\u001b[0m \u001b[32m━━━━━━━━━━━━━━━━━━━━\u001b[0m\u001b[37m\u001b[0m \u001b[1m9s\u001b[0m 6ms/step - accuracy: 0.9954 - loss: 0.0161 - precision: 0.9958 - recall: 0.9950 - val_accuracy: 0.9912 - val_loss: 0.0317 - val_precision: 0.9921 - val_recall: 0.9910\n",
      "\u001b[1m313/313\u001b[0m \u001b[32m━━━━━━━━━━━━━━━━━━━━\u001b[0m\u001b[37m\u001b[0m \u001b[1m1s\u001b[0m 2ms/step\n",
      "\u001b[1m313/313\u001b[0m \u001b[32m━━━━━━━━━━━━━━━━━━━━\u001b[0m\u001b[37m\u001b[0m \u001b[1m1s\u001b[0m 2ms/step - accuracy: 0.9904 - loss: 0.0321 - precision: 0.9905 - recall: 0.9896\n",
      "Model3: Experiment #1, ACCURACY: Test Accuracy 0.9926, Training Accuracy 0.9952, Validation Accuracy 0.9912, (Test Loss 0.0247, Test Precision 0.9930, Test Recall 0.9922)\n"
     ]
    },
    {
     "data": {
      "text/html": [
       "<pre style=\"white-space:pre;overflow-x:auto;line-height:normal;font-family:Menlo,'DejaVu Sans Mono',consolas,'Courier New',monospace\"><span style=\"font-weight: bold\">Model: \"Model3\"</span>\n",
       "</pre>\n"
      ],
      "text/plain": [
       "\u001b[1mModel: \"Model3\"\u001b[0m\n"
      ]
     },
     "metadata": {},
     "output_type": "display_data"
    },
    {
     "data": {
      "text/html": [
       "<pre style=\"white-space:pre;overflow-x:auto;line-height:normal;font-family:Menlo,'DejaVu Sans Mono',consolas,'Courier New',monospace\">┏━━━━━━━━━━━━━━━━━━━━━━━━━━━━━━━━━┳━━━━━━━━━━━━━━━━━━━━━━━━┳━━━━━━━━━━━━━━━┓\n",
       "┃<span style=\"font-weight: bold\"> Layer (type)                    </span>┃<span style=\"font-weight: bold\"> Output Shape           </span>┃<span style=\"font-weight: bold\">       Param # </span>┃\n",
       "┡━━━━━━━━━━━━━━━━━━━━━━━━━━━━━━━━━╇━━━━━━━━━━━━━━━━━━━━━━━━╇━━━━━━━━━━━━━━━┩\n",
       "│ conv2d (<span style=\"color: #0087ff; text-decoration-color: #0087ff\">Conv2D</span>)                 │ (<span style=\"color: #00d7ff; text-decoration-color: #00d7ff\">None</span>, <span style=\"color: #00af00; text-decoration-color: #00af00\">28</span>, <span style=\"color: #00af00; text-decoration-color: #00af00\">28</span>, <span style=\"color: #00af00; text-decoration-color: #00af00\">15</span>)     │           <span style=\"color: #00af00; text-decoration-color: #00af00\">390</span> │\n",
       "├─────────────────────────────────┼────────────────────────┼───────────────┤\n",
       "│ max_pooling2d (<span style=\"color: #0087ff; text-decoration-color: #0087ff\">MaxPooling2D</span>)    │ (<span style=\"color: #00d7ff; text-decoration-color: #00d7ff\">None</span>, <span style=\"color: #00af00; text-decoration-color: #00af00\">14</span>, <span style=\"color: #00af00; text-decoration-color: #00af00\">14</span>, <span style=\"color: #00af00; text-decoration-color: #00af00\">15</span>)     │             <span style=\"color: #00af00; text-decoration-color: #00af00\">0</span> │\n",
       "├─────────────────────────────────┼────────────────────────┼───────────────┤\n",
       "│ conv2d_1 (<span style=\"color: #0087ff; text-decoration-color: #0087ff\">Conv2D</span>)               │ (<span style=\"color: #00d7ff; text-decoration-color: #00d7ff\">None</span>, <span style=\"color: #00af00; text-decoration-color: #00af00\">14</span>, <span style=\"color: #00af00; text-decoration-color: #00af00\">14</span>, <span style=\"color: #00af00; text-decoration-color: #00af00\">15</span>)     │         <span style=\"color: #00af00; text-decoration-color: #00af00\">5,640</span> │\n",
       "├─────────────────────────────────┼────────────────────────┼───────────────┤\n",
       "│ max_pooling2d_1 (<span style=\"color: #0087ff; text-decoration-color: #0087ff\">MaxPooling2D</span>)  │ (<span style=\"color: #00d7ff; text-decoration-color: #00d7ff\">None</span>, <span style=\"color: #00af00; text-decoration-color: #00af00\">7</span>, <span style=\"color: #00af00; text-decoration-color: #00af00\">7</span>, <span style=\"color: #00af00; text-decoration-color: #00af00\">15</span>)       │             <span style=\"color: #00af00; text-decoration-color: #00af00\">0</span> │\n",
       "├─────────────────────────────────┼────────────────────────┼───────────────┤\n",
       "│ flatten (<span style=\"color: #0087ff; text-decoration-color: #0087ff\">Flatten</span>)               │ (<span style=\"color: #00d7ff; text-decoration-color: #00d7ff\">None</span>, <span style=\"color: #00af00; text-decoration-color: #00af00\">735</span>)            │             <span style=\"color: #00af00; text-decoration-color: #00af00\">0</span> │\n",
       "├─────────────────────────────────┼────────────────────────┼───────────────┤\n",
       "│ dropout (<span style=\"color: #0087ff; text-decoration-color: #0087ff\">Dropout</span>)               │ (<span style=\"color: #00d7ff; text-decoration-color: #00d7ff\">None</span>, <span style=\"color: #00af00; text-decoration-color: #00af00\">735</span>)            │             <span style=\"color: #00af00; text-decoration-color: #00af00\">0</span> │\n",
       "├─────────────────────────────────┼────────────────────────┼───────────────┤\n",
       "│ dense (<span style=\"color: #0087ff; text-decoration-color: #0087ff\">Dense</span>)                   │ (<span style=\"color: #00d7ff; text-decoration-color: #00d7ff\">None</span>, <span style=\"color: #00af00; text-decoration-color: #00af00\">256</span>)            │       <span style=\"color: #00af00; text-decoration-color: #00af00\">188,416</span> │\n",
       "├─────────────────────────────────┼────────────────────────┼───────────────┤\n",
       "│ dropout_1 (<span style=\"color: #0087ff; text-decoration-color: #0087ff\">Dropout</span>)             │ (<span style=\"color: #00d7ff; text-decoration-color: #00d7ff\">None</span>, <span style=\"color: #00af00; text-decoration-color: #00af00\">256</span>)            │             <span style=\"color: #00af00; text-decoration-color: #00af00\">0</span> │\n",
       "├─────────────────────────────────┼────────────────────────┼───────────────┤\n",
       "│ dense_1 (<span style=\"color: #0087ff; text-decoration-color: #0087ff\">Dense</span>)                 │ (<span style=\"color: #00d7ff; text-decoration-color: #00d7ff\">None</span>, <span style=\"color: #00af00; text-decoration-color: #00af00\">10</span>)             │         <span style=\"color: #00af00; text-decoration-color: #00af00\">2,570</span> │\n",
       "└─────────────────────────────────┴────────────────────────┴───────────────┘\n",
       "</pre>\n"
      ],
      "text/plain": [
       "┏━━━━━━━━━━━━━━━━━━━━━━━━━━━━━━━━━┳━━━━━━━━━━━━━━━━━━━━━━━━┳━━━━━━━━━━━━━━━┓\n",
       "┃\u001b[1m \u001b[0m\u001b[1mLayer (type)                   \u001b[0m\u001b[1m \u001b[0m┃\u001b[1m \u001b[0m\u001b[1mOutput Shape          \u001b[0m\u001b[1m \u001b[0m┃\u001b[1m \u001b[0m\u001b[1m      Param #\u001b[0m\u001b[1m \u001b[0m┃\n",
       "┡━━━━━━━━━━━━━━━━━━━━━━━━━━━━━━━━━╇━━━━━━━━━━━━━━━━━━━━━━━━╇━━━━━━━━━━━━━━━┩\n",
       "│ conv2d (\u001b[38;5;33mConv2D\u001b[0m)                 │ (\u001b[38;5;45mNone\u001b[0m, \u001b[38;5;34m28\u001b[0m, \u001b[38;5;34m28\u001b[0m, \u001b[38;5;34m15\u001b[0m)     │           \u001b[38;5;34m390\u001b[0m │\n",
       "├─────────────────────────────────┼────────────────────────┼───────────────┤\n",
       "│ max_pooling2d (\u001b[38;5;33mMaxPooling2D\u001b[0m)    │ (\u001b[38;5;45mNone\u001b[0m, \u001b[38;5;34m14\u001b[0m, \u001b[38;5;34m14\u001b[0m, \u001b[38;5;34m15\u001b[0m)     │             \u001b[38;5;34m0\u001b[0m │\n",
       "├─────────────────────────────────┼────────────────────────┼───────────────┤\n",
       "│ conv2d_1 (\u001b[38;5;33mConv2D\u001b[0m)               │ (\u001b[38;5;45mNone\u001b[0m, \u001b[38;5;34m14\u001b[0m, \u001b[38;5;34m14\u001b[0m, \u001b[38;5;34m15\u001b[0m)     │         \u001b[38;5;34m5,640\u001b[0m │\n",
       "├─────────────────────────────────┼────────────────────────┼───────────────┤\n",
       "│ max_pooling2d_1 (\u001b[38;5;33mMaxPooling2D\u001b[0m)  │ (\u001b[38;5;45mNone\u001b[0m, \u001b[38;5;34m7\u001b[0m, \u001b[38;5;34m7\u001b[0m, \u001b[38;5;34m15\u001b[0m)       │             \u001b[38;5;34m0\u001b[0m │\n",
       "├─────────────────────────────────┼────────────────────────┼───────────────┤\n",
       "│ flatten (\u001b[38;5;33mFlatten\u001b[0m)               │ (\u001b[38;5;45mNone\u001b[0m, \u001b[38;5;34m735\u001b[0m)            │             \u001b[38;5;34m0\u001b[0m │\n",
       "├─────────────────────────────────┼────────────────────────┼───────────────┤\n",
       "│ dropout (\u001b[38;5;33mDropout\u001b[0m)               │ (\u001b[38;5;45mNone\u001b[0m, \u001b[38;5;34m735\u001b[0m)            │             \u001b[38;5;34m0\u001b[0m │\n",
       "├─────────────────────────────────┼────────────────────────┼───────────────┤\n",
       "│ dense (\u001b[38;5;33mDense\u001b[0m)                   │ (\u001b[38;5;45mNone\u001b[0m, \u001b[38;5;34m256\u001b[0m)            │       \u001b[38;5;34m188,416\u001b[0m │\n",
       "├─────────────────────────────────┼────────────────────────┼───────────────┤\n",
       "│ dropout_1 (\u001b[38;5;33mDropout\u001b[0m)             │ (\u001b[38;5;45mNone\u001b[0m, \u001b[38;5;34m256\u001b[0m)            │             \u001b[38;5;34m0\u001b[0m │\n",
       "├─────────────────────────────────┼────────────────────────┼───────────────┤\n",
       "│ dense_1 (\u001b[38;5;33mDense\u001b[0m)                 │ (\u001b[38;5;45mNone\u001b[0m, \u001b[38;5;34m10\u001b[0m)             │         \u001b[38;5;34m2,570\u001b[0m │\n",
       "└─────────────────────────────────┴────────────────────────┴───────────────┘\n"
      ]
     },
     "metadata": {},
     "output_type": "display_data"
    },
    {
     "data": {
      "text/html": [
       "<pre style=\"white-space:pre;overflow-x:auto;line-height:normal;font-family:Menlo,'DejaVu Sans Mono',consolas,'Courier New',monospace\"><span style=\"font-weight: bold\"> Total params: </span><span style=\"color: #00af00; text-decoration-color: #00af00\">591,050</span> (2.25 MB)\n",
       "</pre>\n"
      ],
      "text/plain": [
       "\u001b[1m Total params: \u001b[0m\u001b[38;5;34m591,050\u001b[0m (2.25 MB)\n"
      ]
     },
     "metadata": {},
     "output_type": "display_data"
    },
    {
     "data": {
      "text/html": [
       "<pre style=\"white-space:pre;overflow-x:auto;line-height:normal;font-family:Menlo,'DejaVu Sans Mono',consolas,'Courier New',monospace\"><span style=\"font-weight: bold\"> Trainable params: </span><span style=\"color: #00af00; text-decoration-color: #00af00\">197,016</span> (769.59 KB)\n",
       "</pre>\n"
      ],
      "text/plain": [
       "\u001b[1m Trainable params: \u001b[0m\u001b[38;5;34m197,016\u001b[0m (769.59 KB)\n"
      ]
     },
     "metadata": {},
     "output_type": "display_data"
    },
    {
     "data": {
      "text/html": [
       "<pre style=\"white-space:pre;overflow-x:auto;line-height:normal;font-family:Menlo,'DejaVu Sans Mono',consolas,'Courier New',monospace\"><span style=\"font-weight: bold\"> Non-trainable params: </span><span style=\"color: #00af00; text-decoration-color: #00af00\">0</span> (0.00 B)\n",
       "</pre>\n"
      ],
      "text/plain": [
       "\u001b[1m Non-trainable params: \u001b[0m\u001b[38;5;34m0\u001b[0m (0.00 B)\n"
      ]
     },
     "metadata": {},
     "output_type": "display_data"
    },
    {
     "data": {
      "text/html": [
       "<pre style=\"white-space:pre;overflow-x:auto;line-height:normal;font-family:Menlo,'DejaVu Sans Mono',consolas,'Courier New',monospace\"><span style=\"font-weight: bold\"> Optimizer params: </span><span style=\"color: #00af00; text-decoration-color: #00af00\">394,034</span> (1.50 MB)\n",
       "</pre>\n"
      ],
      "text/plain": [
       "\u001b[1m Optimizer params: \u001b[0m\u001b[38;5;34m394,034\u001b[0m (1.50 MB)\n"
      ]
     },
     "metadata": {},
     "output_type": "display_data"
    },
    {
     "name": "stdout",
     "output_type": "stream",
     "text": [
      "Confusion Matrix\n",
      "[[ 978    0    0    0    0    0    1    1    0    0]\n",
      " [   0 1133    1    0    0    0    0    1    0    0]\n",
      " [   1    1 1025    0    0    0    0    5    0    0]\n",
      " [   0    0    0 1004    0    2    0    0    3    1]\n",
      " [   0    0    0    0  979    0    0    0    1    2]\n",
      " [   2    0    0    7    0  882    1    0    0    0]\n",
      " [   3    2    1    0    2    3  947    0    0    0]\n",
      " [   0    2    3    2    0    0    0 1018    1    2]\n",
      " [   1    0    3    2    0    1    0    1  962    4]\n",
      " [   0    1    0    0    8    1    0    1    0  998]]\n",
      "Model Summary\n",
      "None\n",
      "Finished Run #1 of 3, duration 307.1430 seconds\n",
      "Start Run #2 of 3\n",
      "Epoch 1/30\n",
      "\u001b[1m1500/1500\u001b[0m \u001b[32m━━━━━━━━━━━━━━━━━━━━\u001b[0m\u001b[37m\u001b[0m \u001b[1m10s\u001b[0m 6ms/step - accuracy: 0.6956 - loss: 0.9469 - precision_1: 0.8714 - recall_1: 0.5341 - val_accuracy: 0.9554 - val_loss: 0.1501 - val_precision_1: 0.9677 - val_recall_1: 0.9461\n",
      "Epoch 2/30\n",
      "\u001b[1m1500/1500\u001b[0m \u001b[32m━━━━━━━━━━━━━━━━━━━━\u001b[0m\u001b[37m\u001b[0m \u001b[1m9s\u001b[0m 6ms/step - accuracy: 0.9405 - loss: 0.1912 - precision_1: 0.9541 - recall_1: 0.9275 - val_accuracy: 0.9722 - val_loss: 0.0957 - val_precision_1: 0.9781 - val_recall_1: 0.9684\n",
      "Epoch 3/30\n",
      "\u001b[1m1500/1500\u001b[0m \u001b[32m━━━━━━━━━━━━━━━━━━━━\u001b[0m\u001b[37m\u001b[0m \u001b[1m9s\u001b[0m 6ms/step - accuracy: 0.9584 - loss: 0.1282 - precision_1: 0.9666 - recall_1: 0.9524 - val_accuracy: 0.9784 - val_loss: 0.0749 - val_precision_1: 0.9827 - val_recall_1: 0.9758\n",
      "Epoch 4/30\n",
      "\u001b[1m1500/1500\u001b[0m \u001b[32m━━━━━━━━━━━━━━━━━━━━\u001b[0m\u001b[37m\u001b[0m \u001b[1m9s\u001b[0m 6ms/step - accuracy: 0.9691 - loss: 0.0994 - precision_1: 0.9738 - recall_1: 0.9651 - val_accuracy: 0.9808 - val_loss: 0.0633 - val_precision_1: 0.9835 - val_recall_1: 0.9791\n",
      "Epoch 5/30\n",
      "\u001b[1m1500/1500\u001b[0m \u001b[32m━━━━━━━━━━━━━━━━━━━━\u001b[0m\u001b[37m\u001b[0m \u001b[1m9s\u001b[0m 6ms/step - accuracy: 0.9737 - loss: 0.0826 - precision_1: 0.9782 - recall_1: 0.9700 - val_accuracy: 0.9833 - val_loss: 0.0554 - val_precision_1: 0.9864 - val_recall_1: 0.9821\n",
      "Epoch 6/30\n",
      "\u001b[1m1500/1500\u001b[0m \u001b[32m━━━━━━━━━━━━━━━━━━━━\u001b[0m\u001b[37m\u001b[0m \u001b[1m8s\u001b[0m 6ms/step - accuracy: 0.9780 - loss: 0.0711 - precision_1: 0.9816 - recall_1: 0.9755 - val_accuracy: 0.9851 - val_loss: 0.0496 - val_precision_1: 0.9879 - val_recall_1: 0.9843\n",
      "Epoch 7/30\n",
      "\u001b[1m1500/1500\u001b[0m \u001b[32m━━━━━━━━━━━━━━━━━━━━\u001b[0m\u001b[37m\u001b[0m \u001b[1m8s\u001b[0m 6ms/step - accuracy: 0.9802 - loss: 0.0611 - precision_1: 0.9831 - recall_1: 0.9775 - val_accuracy: 0.9861 - val_loss: 0.0462 - val_precision_1: 0.9882 - val_recall_1: 0.9847\n",
      "Epoch 8/30\n",
      "\u001b[1m1500/1500\u001b[0m \u001b[32m━━━━━━━━━━━━━━━━━━━━\u001b[0m\u001b[37m\u001b[0m \u001b[1m9s\u001b[0m 6ms/step - accuracy: 0.9834 - loss: 0.0556 - precision_1: 0.9856 - recall_1: 0.9813 - val_accuracy: 0.9874 - val_loss: 0.0432 - val_precision_1: 0.9893 - val_recall_1: 0.9862\n",
      "Epoch 9/30\n",
      "\u001b[1m1500/1500\u001b[0m \u001b[32m━━━━━━━━━━━━━━━━━━━━\u001b[0m\u001b[37m\u001b[0m \u001b[1m9s\u001b[0m 6ms/step - accuracy: 0.9844 - loss: 0.0489 - precision_1: 0.9862 - recall_1: 0.9830 - val_accuracy: 0.9881 - val_loss: 0.0419 - val_precision_1: 0.9900 - val_recall_1: 0.9869\n",
      "Epoch 10/30\n",
      "\u001b[1m1500/1500\u001b[0m \u001b[32m━━━━━━━━━━━━━━━━━━━━\u001b[0m\u001b[37m\u001b[0m \u001b[1m8s\u001b[0m 6ms/step - accuracy: 0.9858 - loss: 0.0457 - precision_1: 0.9871 - recall_1: 0.9845 - val_accuracy: 0.9886 - val_loss: 0.0397 - val_precision_1: 0.9906 - val_recall_1: 0.9877\n",
      "Epoch 11/30\n",
      "\u001b[1m1500/1500\u001b[0m \u001b[32m━━━━━━━━━━━━━━━━━━━━\u001b[0m\u001b[37m\u001b[0m \u001b[1m8s\u001b[0m 6ms/step - accuracy: 0.9861 - loss: 0.0432 - precision_1: 0.9878 - recall_1: 0.9845 - val_accuracy: 0.9893 - val_loss: 0.0376 - val_precision_1: 0.9914 - val_recall_1: 0.9885\n",
      "Epoch 12/30\n",
      "\u001b[1m1500/1500\u001b[0m \u001b[32m━━━━━━━━━━━━━━━━━━━━\u001b[0m\u001b[37m\u001b[0m \u001b[1m9s\u001b[0m 6ms/step - accuracy: 0.9886 - loss: 0.0382 - precision_1: 0.9896 - recall_1: 0.9872 - val_accuracy: 0.9893 - val_loss: 0.0365 - val_precision_1: 0.9905 - val_recall_1: 0.9887\n",
      "Epoch 13/30\n",
      "\u001b[1m1500/1500\u001b[0m \u001b[32m━━━━━━━━━━━━━━━━━━━━\u001b[0m\u001b[37m\u001b[0m \u001b[1m8s\u001b[0m 6ms/step - accuracy: 0.9884 - loss: 0.0361 - precision_1: 0.9896 - recall_1: 0.9872 - val_accuracy: 0.9898 - val_loss: 0.0368 - val_precision_1: 0.9909 - val_recall_1: 0.9893\n",
      "Epoch 14/30\n",
      "\u001b[1m1500/1500\u001b[0m \u001b[32m━━━━━━━━━━━━━━━━━━━━\u001b[0m\u001b[37m\u001b[0m \u001b[1m8s\u001b[0m 6ms/step - accuracy: 0.9889 - loss: 0.0363 - precision_1: 0.9899 - recall_1: 0.9874 - val_accuracy: 0.9912 - val_loss: 0.0342 - val_precision_1: 0.9926 - val_recall_1: 0.9903\n",
      "Epoch 15/30\n",
      "\u001b[1m1500/1500\u001b[0m \u001b[32m━━━━━━━━━━━━━━━━━━━━\u001b[0m\u001b[37m\u001b[0m \u001b[1m9s\u001b[0m 6ms/step - accuracy: 0.9897 - loss: 0.0319 - precision_1: 0.9906 - recall_1: 0.9886 - val_accuracy: 0.9907 - val_loss: 0.0344 - val_precision_1: 0.9918 - val_recall_1: 0.9899\n",
      "Epoch 16/30\n",
      "\u001b[1m1500/1500\u001b[0m \u001b[32m━━━━━━━━━━━━━━━━━━━━\u001b[0m\u001b[37m\u001b[0m \u001b[1m9s\u001b[0m 6ms/step - accuracy: 0.9903 - loss: 0.0302 - precision_1: 0.9913 - recall_1: 0.9895 - val_accuracy: 0.9909 - val_loss: 0.0345 - val_precision_1: 0.9920 - val_recall_1: 0.9902\n",
      "Epoch 17/30\n",
      "\u001b[1m1500/1500\u001b[0m \u001b[32m━━━━━━━━━━━━━━━━━━━━\u001b[0m\u001b[37m\u001b[0m \u001b[1m9s\u001b[0m 6ms/step - accuracy: 0.9915 - loss: 0.0269 - precision_1: 0.9925 - recall_1: 0.9905 - val_accuracy: 0.9907 - val_loss: 0.0349 - val_precision_1: 0.9917 - val_recall_1: 0.9901\n",
      "Epoch 18/30\n",
      "\u001b[1m1500/1500\u001b[0m \u001b[32m━━━━━━━━━━━━━━━━━━━━\u001b[0m\u001b[37m\u001b[0m \u001b[1m8s\u001b[0m 6ms/step - accuracy: 0.9917 - loss: 0.0254 - precision_1: 0.9926 - recall_1: 0.9908 - val_accuracy: 0.9908 - val_loss: 0.0346 - val_precision_1: 0.9920 - val_recall_1: 0.9902\n",
      "Epoch 19/30\n",
      "\u001b[1m1500/1500\u001b[0m \u001b[32m━━━━━━━━━━━━━━━━━━━━\u001b[0m\u001b[37m\u001b[0m \u001b[1m9s\u001b[0m 6ms/step - accuracy: 0.9924 - loss: 0.0245 - precision_1: 0.9932 - recall_1: 0.9920 - val_accuracy: 0.9905 - val_loss: 0.0330 - val_precision_1: 0.9915 - val_recall_1: 0.9897\n",
      "Epoch 20/30\n",
      "\u001b[1m1500/1500\u001b[0m \u001b[32m━━━━━━━━━━━━━━━━━━━━\u001b[0m\u001b[37m\u001b[0m \u001b[1m9s\u001b[0m 6ms/step - accuracy: 0.9924 - loss: 0.0234 - precision_1: 0.9931 - recall_1: 0.9914 - val_accuracy: 0.9908 - val_loss: 0.0347 - val_precision_1: 0.9918 - val_recall_1: 0.9899\n",
      "Epoch 21/30\n",
      "\u001b[1m1500/1500\u001b[0m \u001b[32m━━━━━━━━━━━━━━━━━━━━\u001b[0m\u001b[37m\u001b[0m \u001b[1m9s\u001b[0m 6ms/step - accuracy: 0.9927 - loss: 0.0223 - precision_1: 0.9934 - recall_1: 0.9921 - val_accuracy: 0.9908 - val_loss: 0.0329 - val_precision_1: 0.9918 - val_recall_1: 0.9904\n",
      "Epoch 22/30\n",
      "\u001b[1m1500/1500\u001b[0m \u001b[32m━━━━━━━━━━━━━━━━━━━━\u001b[0m\u001b[37m\u001b[0m \u001b[1m9s\u001b[0m 6ms/step - accuracy: 0.9935 - loss: 0.0204 - precision_1: 0.9938 - recall_1: 0.9930 - val_accuracy: 0.9912 - val_loss: 0.0321 - val_precision_1: 0.9922 - val_recall_1: 0.9907\n",
      "Epoch 23/30\n",
      "\u001b[1m1500/1500\u001b[0m \u001b[32m━━━━━━━━━━━━━━━━━━━━\u001b[0m\u001b[37m\u001b[0m \u001b[1m9s\u001b[0m 6ms/step - accuracy: 0.9939 - loss: 0.0192 - precision_1: 0.9946 - recall_1: 0.9936 - val_accuracy: 0.9904 - val_loss: 0.0334 - val_precision_1: 0.9913 - val_recall_1: 0.9901\n",
      "Epoch 24/30\n",
      "\u001b[1m1500/1500\u001b[0m \u001b[32m━━━━━━━━━━━━━━━━━━━━\u001b[0m\u001b[37m\u001b[0m \u001b[1m9s\u001b[0m 6ms/step - accuracy: 0.9933 - loss: 0.0190 - precision_1: 0.9940 - recall_1: 0.9926 - val_accuracy: 0.9915 - val_loss: 0.0336 - val_precision_1: 0.9922 - val_recall_1: 0.9912\n",
      "Epoch 25/30\n",
      "\u001b[1m1500/1500\u001b[0m \u001b[32m━━━━━━━━━━━━━━━━━━━━\u001b[0m\u001b[37m\u001b[0m \u001b[1m9s\u001b[0m 6ms/step - accuracy: 0.9941 - loss: 0.0186 - precision_1: 0.9948 - recall_1: 0.9937 - val_accuracy: 0.9914 - val_loss: 0.0323 - val_precision_1: 0.9922 - val_recall_1: 0.9908\n",
      "Epoch 26/30\n",
      "\u001b[1m1500/1500\u001b[0m \u001b[32m━━━━━━━━━━━━━━━━━━━━\u001b[0m\u001b[37m\u001b[0m \u001b[1m9s\u001b[0m 6ms/step - accuracy: 0.9939 - loss: 0.0183 - precision_1: 0.9944 - recall_1: 0.9936 - val_accuracy: 0.9908 - val_loss: 0.0343 - val_precision_1: 0.9913 - val_recall_1: 0.9902\n",
      "Epoch 27/30\n",
      "\u001b[1m1500/1500\u001b[0m \u001b[32m━━━━━━━━━━━━━━━━━━━━\u001b[0m\u001b[37m\u001b[0m \u001b[1m9s\u001b[0m 6ms/step - accuracy: 0.9947 - loss: 0.0169 - precision_1: 0.9951 - recall_1: 0.9941 - val_accuracy: 0.9913 - val_loss: 0.0336 - val_precision_1: 0.9916 - val_recall_1: 0.9908\n",
      "Epoch 28/30\n",
      "\u001b[1m1500/1500\u001b[0m \u001b[32m━━━━━━━━━━━━━━━━━━━━\u001b[0m\u001b[37m\u001b[0m \u001b[1m9s\u001b[0m 6ms/step - accuracy: 0.9951 - loss: 0.0162 - precision_1: 0.9954 - recall_1: 0.9947 - val_accuracy: 0.9912 - val_loss: 0.0322 - val_precision_1: 0.9917 - val_recall_1: 0.9909\n",
      "Epoch 29/30\n",
      "\u001b[1m1500/1500\u001b[0m \u001b[32m━━━━━━━━━━━━━━━━━━━━\u001b[0m\u001b[37m\u001b[0m \u001b[1m10s\u001b[0m 6ms/step - accuracy: 0.9956 - loss: 0.0132 - precision_1: 0.9959 - recall_1: 0.9953 - val_accuracy: 0.9914 - val_loss: 0.0327 - val_precision_1: 0.9917 - val_recall_1: 0.9910\n",
      "Epoch 30/30\n",
      "\u001b[1m1500/1500\u001b[0m \u001b[32m━━━━━━━━━━━━━━━━━━━━\u001b[0m\u001b[37m\u001b[0m \u001b[1m9s\u001b[0m 6ms/step - accuracy: 0.9952 - loss: 0.0161 - precision_1: 0.9955 - recall_1: 0.9946 - val_accuracy: 0.9918 - val_loss: 0.0329 - val_precision_1: 0.9925 - val_recall_1: 0.9917\n",
      "\u001b[1m313/313\u001b[0m \u001b[32m━━━━━━━━━━━━━━━━━━━━\u001b[0m\u001b[37m\u001b[0m \u001b[1m1s\u001b[0m 2ms/step\n",
      "\u001b[1m313/313\u001b[0m \u001b[32m━━━━━━━━━━━━━━━━━━━━\u001b[0m\u001b[37m\u001b[0m \u001b[1m1s\u001b[0m 2ms/step - accuracy: 0.9900 - loss: 0.0276 - precision_1: 0.9908 - recall_1: 0.9895\n",
      "Model3: Experiment #2, ACCURACY: Test Accuracy 0.9918, Training Accuracy 0.9955, Validation Accuracy 0.9918, (Test Loss 0.0229, Test Precision 0.9926, Test Recall 0.9915)\n"
     ]
    },
    {
     "data": {
      "text/html": [
       "<pre style=\"white-space:pre;overflow-x:auto;line-height:normal;font-family:Menlo,'DejaVu Sans Mono',consolas,'Courier New',monospace\"><span style=\"font-weight: bold\">Model: \"Model3\"</span>\n",
       "</pre>\n"
      ],
      "text/plain": [
       "\u001b[1mModel: \"Model3\"\u001b[0m\n"
      ]
     },
     "metadata": {},
     "output_type": "display_data"
    },
    {
     "data": {
      "text/html": [
       "<pre style=\"white-space:pre;overflow-x:auto;line-height:normal;font-family:Menlo,'DejaVu Sans Mono',consolas,'Courier New',monospace\">┏━━━━━━━━━━━━━━━━━━━━━━━━━━━━━━━━━┳━━━━━━━━━━━━━━━━━━━━━━━━┳━━━━━━━━━━━━━━━┓\n",
       "┃<span style=\"font-weight: bold\"> Layer (type)                    </span>┃<span style=\"font-weight: bold\"> Output Shape           </span>┃<span style=\"font-weight: bold\">       Param # </span>┃\n",
       "┡━━━━━━━━━━━━━━━━━━━━━━━━━━━━━━━━━╇━━━━━━━━━━━━━━━━━━━━━━━━╇━━━━━━━━━━━━━━━┩\n",
       "│ conv2d_2 (<span style=\"color: #0087ff; text-decoration-color: #0087ff\">Conv2D</span>)               │ (<span style=\"color: #00d7ff; text-decoration-color: #00d7ff\">None</span>, <span style=\"color: #00af00; text-decoration-color: #00af00\">28</span>, <span style=\"color: #00af00; text-decoration-color: #00af00\">28</span>, <span style=\"color: #00af00; text-decoration-color: #00af00\">15</span>)     │           <span style=\"color: #00af00; text-decoration-color: #00af00\">390</span> │\n",
       "├─────────────────────────────────┼────────────────────────┼───────────────┤\n",
       "│ max_pooling2d_2 (<span style=\"color: #0087ff; text-decoration-color: #0087ff\">MaxPooling2D</span>)  │ (<span style=\"color: #00d7ff; text-decoration-color: #00d7ff\">None</span>, <span style=\"color: #00af00; text-decoration-color: #00af00\">14</span>, <span style=\"color: #00af00; text-decoration-color: #00af00\">14</span>, <span style=\"color: #00af00; text-decoration-color: #00af00\">15</span>)     │             <span style=\"color: #00af00; text-decoration-color: #00af00\">0</span> │\n",
       "├─────────────────────────────────┼────────────────────────┼───────────────┤\n",
       "│ conv2d_3 (<span style=\"color: #0087ff; text-decoration-color: #0087ff\">Conv2D</span>)               │ (<span style=\"color: #00d7ff; text-decoration-color: #00d7ff\">None</span>, <span style=\"color: #00af00; text-decoration-color: #00af00\">14</span>, <span style=\"color: #00af00; text-decoration-color: #00af00\">14</span>, <span style=\"color: #00af00; text-decoration-color: #00af00\">15</span>)     │         <span style=\"color: #00af00; text-decoration-color: #00af00\">5,640</span> │\n",
       "├─────────────────────────────────┼────────────────────────┼───────────────┤\n",
       "│ max_pooling2d_3 (<span style=\"color: #0087ff; text-decoration-color: #0087ff\">MaxPooling2D</span>)  │ (<span style=\"color: #00d7ff; text-decoration-color: #00d7ff\">None</span>, <span style=\"color: #00af00; text-decoration-color: #00af00\">7</span>, <span style=\"color: #00af00; text-decoration-color: #00af00\">7</span>, <span style=\"color: #00af00; text-decoration-color: #00af00\">15</span>)       │             <span style=\"color: #00af00; text-decoration-color: #00af00\">0</span> │\n",
       "├─────────────────────────────────┼────────────────────────┼───────────────┤\n",
       "│ flatten_1 (<span style=\"color: #0087ff; text-decoration-color: #0087ff\">Flatten</span>)             │ (<span style=\"color: #00d7ff; text-decoration-color: #00d7ff\">None</span>, <span style=\"color: #00af00; text-decoration-color: #00af00\">735</span>)            │             <span style=\"color: #00af00; text-decoration-color: #00af00\">0</span> │\n",
       "├─────────────────────────────────┼────────────────────────┼───────────────┤\n",
       "│ dropout_2 (<span style=\"color: #0087ff; text-decoration-color: #0087ff\">Dropout</span>)             │ (<span style=\"color: #00d7ff; text-decoration-color: #00d7ff\">None</span>, <span style=\"color: #00af00; text-decoration-color: #00af00\">735</span>)            │             <span style=\"color: #00af00; text-decoration-color: #00af00\">0</span> │\n",
       "├─────────────────────────────────┼────────────────────────┼───────────────┤\n",
       "│ dense_2 (<span style=\"color: #0087ff; text-decoration-color: #0087ff\">Dense</span>)                 │ (<span style=\"color: #00d7ff; text-decoration-color: #00d7ff\">None</span>, <span style=\"color: #00af00; text-decoration-color: #00af00\">256</span>)            │       <span style=\"color: #00af00; text-decoration-color: #00af00\">188,416</span> │\n",
       "├─────────────────────────────────┼────────────────────────┼───────────────┤\n",
       "│ dropout_3 (<span style=\"color: #0087ff; text-decoration-color: #0087ff\">Dropout</span>)             │ (<span style=\"color: #00d7ff; text-decoration-color: #00d7ff\">None</span>, <span style=\"color: #00af00; text-decoration-color: #00af00\">256</span>)            │             <span style=\"color: #00af00; text-decoration-color: #00af00\">0</span> │\n",
       "├─────────────────────────────────┼────────────────────────┼───────────────┤\n",
       "│ dense_3 (<span style=\"color: #0087ff; text-decoration-color: #0087ff\">Dense</span>)                 │ (<span style=\"color: #00d7ff; text-decoration-color: #00d7ff\">None</span>, <span style=\"color: #00af00; text-decoration-color: #00af00\">10</span>)             │         <span style=\"color: #00af00; text-decoration-color: #00af00\">2,570</span> │\n",
       "└─────────────────────────────────┴────────────────────────┴───────────────┘\n",
       "</pre>\n"
      ],
      "text/plain": [
       "┏━━━━━━━━━━━━━━━━━━━━━━━━━━━━━━━━━┳━━━━━━━━━━━━━━━━━━━━━━━━┳━━━━━━━━━━━━━━━┓\n",
       "┃\u001b[1m \u001b[0m\u001b[1mLayer (type)                   \u001b[0m\u001b[1m \u001b[0m┃\u001b[1m \u001b[0m\u001b[1mOutput Shape          \u001b[0m\u001b[1m \u001b[0m┃\u001b[1m \u001b[0m\u001b[1m      Param #\u001b[0m\u001b[1m \u001b[0m┃\n",
       "┡━━━━━━━━━━━━━━━━━━━━━━━━━━━━━━━━━╇━━━━━━━━━━━━━━━━━━━━━━━━╇━━━━━━━━━━━━━━━┩\n",
       "│ conv2d_2 (\u001b[38;5;33mConv2D\u001b[0m)               │ (\u001b[38;5;45mNone\u001b[0m, \u001b[38;5;34m28\u001b[0m, \u001b[38;5;34m28\u001b[0m, \u001b[38;5;34m15\u001b[0m)     │           \u001b[38;5;34m390\u001b[0m │\n",
       "├─────────────────────────────────┼────────────────────────┼───────────────┤\n",
       "│ max_pooling2d_2 (\u001b[38;5;33mMaxPooling2D\u001b[0m)  │ (\u001b[38;5;45mNone\u001b[0m, \u001b[38;5;34m14\u001b[0m, \u001b[38;5;34m14\u001b[0m, \u001b[38;5;34m15\u001b[0m)     │             \u001b[38;5;34m0\u001b[0m │\n",
       "├─────────────────────────────────┼────────────────────────┼───────────────┤\n",
       "│ conv2d_3 (\u001b[38;5;33mConv2D\u001b[0m)               │ (\u001b[38;5;45mNone\u001b[0m, \u001b[38;5;34m14\u001b[0m, \u001b[38;5;34m14\u001b[0m, \u001b[38;5;34m15\u001b[0m)     │         \u001b[38;5;34m5,640\u001b[0m │\n",
       "├─────────────────────────────────┼────────────────────────┼───────────────┤\n",
       "│ max_pooling2d_3 (\u001b[38;5;33mMaxPooling2D\u001b[0m)  │ (\u001b[38;5;45mNone\u001b[0m, \u001b[38;5;34m7\u001b[0m, \u001b[38;5;34m7\u001b[0m, \u001b[38;5;34m15\u001b[0m)       │             \u001b[38;5;34m0\u001b[0m │\n",
       "├─────────────────────────────────┼────────────────────────┼───────────────┤\n",
       "│ flatten_1 (\u001b[38;5;33mFlatten\u001b[0m)             │ (\u001b[38;5;45mNone\u001b[0m, \u001b[38;5;34m735\u001b[0m)            │             \u001b[38;5;34m0\u001b[0m │\n",
       "├─────────────────────────────────┼────────────────────────┼───────────────┤\n",
       "│ dropout_2 (\u001b[38;5;33mDropout\u001b[0m)             │ (\u001b[38;5;45mNone\u001b[0m, \u001b[38;5;34m735\u001b[0m)            │             \u001b[38;5;34m0\u001b[0m │\n",
       "├─────────────────────────────────┼────────────────────────┼───────────────┤\n",
       "│ dense_2 (\u001b[38;5;33mDense\u001b[0m)                 │ (\u001b[38;5;45mNone\u001b[0m, \u001b[38;5;34m256\u001b[0m)            │       \u001b[38;5;34m188,416\u001b[0m │\n",
       "├─────────────────────────────────┼────────────────────────┼───────────────┤\n",
       "│ dropout_3 (\u001b[38;5;33mDropout\u001b[0m)             │ (\u001b[38;5;45mNone\u001b[0m, \u001b[38;5;34m256\u001b[0m)            │             \u001b[38;5;34m0\u001b[0m │\n",
       "├─────────────────────────────────┼────────────────────────┼───────────────┤\n",
       "│ dense_3 (\u001b[38;5;33mDense\u001b[0m)                 │ (\u001b[38;5;45mNone\u001b[0m, \u001b[38;5;34m10\u001b[0m)             │         \u001b[38;5;34m2,570\u001b[0m │\n",
       "└─────────────────────────────────┴────────────────────────┴───────────────┘\n"
      ]
     },
     "metadata": {},
     "output_type": "display_data"
    },
    {
     "data": {
      "text/html": [
       "<pre style=\"white-space:pre;overflow-x:auto;line-height:normal;font-family:Menlo,'DejaVu Sans Mono',consolas,'Courier New',monospace\"><span style=\"font-weight: bold\"> Total params: </span><span style=\"color: #00af00; text-decoration-color: #00af00\">591,050</span> (2.25 MB)\n",
       "</pre>\n"
      ],
      "text/plain": [
       "\u001b[1m Total params: \u001b[0m\u001b[38;5;34m591,050\u001b[0m (2.25 MB)\n"
      ]
     },
     "metadata": {},
     "output_type": "display_data"
    },
    {
     "data": {
      "text/html": [
       "<pre style=\"white-space:pre;overflow-x:auto;line-height:normal;font-family:Menlo,'DejaVu Sans Mono',consolas,'Courier New',monospace\"><span style=\"font-weight: bold\"> Trainable params: </span><span style=\"color: #00af00; text-decoration-color: #00af00\">197,016</span> (769.59 KB)\n",
       "</pre>\n"
      ],
      "text/plain": [
       "\u001b[1m Trainable params: \u001b[0m\u001b[38;5;34m197,016\u001b[0m (769.59 KB)\n"
      ]
     },
     "metadata": {},
     "output_type": "display_data"
    },
    {
     "data": {
      "text/html": [
       "<pre style=\"white-space:pre;overflow-x:auto;line-height:normal;font-family:Menlo,'DejaVu Sans Mono',consolas,'Courier New',monospace\"><span style=\"font-weight: bold\"> Non-trainable params: </span><span style=\"color: #00af00; text-decoration-color: #00af00\">0</span> (0.00 B)\n",
       "</pre>\n"
      ],
      "text/plain": [
       "\u001b[1m Non-trainable params: \u001b[0m\u001b[38;5;34m0\u001b[0m (0.00 B)\n"
      ]
     },
     "metadata": {},
     "output_type": "display_data"
    },
    {
     "data": {
      "text/html": [
       "<pre style=\"white-space:pre;overflow-x:auto;line-height:normal;font-family:Menlo,'DejaVu Sans Mono',consolas,'Courier New',monospace\"><span style=\"font-weight: bold\"> Optimizer params: </span><span style=\"color: #00af00; text-decoration-color: #00af00\">394,034</span> (1.50 MB)\n",
       "</pre>\n"
      ],
      "text/plain": [
       "\u001b[1m Optimizer params: \u001b[0m\u001b[38;5;34m394,034\u001b[0m (1.50 MB)\n"
      ]
     },
     "metadata": {},
     "output_type": "display_data"
    },
    {
     "name": "stdout",
     "output_type": "stream",
     "text": [
      "Confusion Matrix\n",
      "[[ 977    0    0    0    0    0    2    1    0    0]\n",
      " [   0 1133    1    0    0    0    1    0    0    0]\n",
      " [   0    1 1026    1    0    0    1    1    2    0]\n",
      " [   0    0    0 1003    0    3    0    0    2    2]\n",
      " [   0    0    0    0  971    0    2    1    3    5]\n",
      " [   2    0    0    5    0  881    2    0    0    2]\n",
      " [   3    2    0    1    1    1  949    0    1    0]\n",
      " [   0    2    5    3    0    0    0 1015    1    2]\n",
      " [   1    0    1    1    0    1    0    0  967    3]\n",
      " [   0    1    0    2    4    2    0    1    3  996]]\n",
      "Model Summary\n",
      "None\n",
      "Finished Run #2 of 3, duration 261.9704 seconds\n",
      "Start Run #3 of 3\n",
      "Epoch 1/30\n",
      "\u001b[1m1500/1500\u001b[0m \u001b[32m━━━━━━━━━━━━━━━━━━━━\u001b[0m\u001b[37m\u001b[0m \u001b[1m10s\u001b[0m 6ms/step - accuracy: 0.6938 - loss: 0.9653 - precision_2: 0.8709 - recall_2: 0.5301 - val_accuracy: 0.9601 - val_loss: 0.1407 - val_precision_2: 0.9702 - val_recall_2: 0.9512\n",
      "Epoch 2/30\n",
      "\u001b[1m1500/1500\u001b[0m \u001b[32m━━━━━━━━━━━━━━━━━━━━\u001b[0m\u001b[37m\u001b[0m \u001b[1m9s\u001b[0m 6ms/step - accuracy: 0.9439 - loss: 0.1833 - precision_2: 0.9578 - recall_2: 0.9334 - val_accuracy: 0.9737 - val_loss: 0.0892 - val_precision_2: 0.9793 - val_recall_2: 0.9693\n",
      "Epoch 3/30\n",
      "\u001b[1m1500/1500\u001b[0m \u001b[32m━━━━━━━━━━━━━━━━━━━━\u001b[0m\u001b[37m\u001b[0m \u001b[1m9s\u001b[0m 6ms/step - accuracy: 0.9621 - loss: 0.1187 - precision_2: 0.9697 - recall_2: 0.9558 - val_accuracy: 0.9797 - val_loss: 0.0696 - val_precision_2: 0.9827 - val_recall_2: 0.9772\n",
      "Epoch 4/30\n",
      "\u001b[1m1500/1500\u001b[0m \u001b[32m━━━━━━━━━━━━━━━━━━━━\u001b[0m\u001b[37m\u001b[0m \u001b[1m9s\u001b[0m 6ms/step - accuracy: 0.9706 - loss: 0.0929 - precision_2: 0.9758 - recall_2: 0.9651 - val_accuracy: 0.9817 - val_loss: 0.0589 - val_precision_2: 0.9847 - val_recall_2: 0.9800\n",
      "Epoch 5/30\n",
      "\u001b[1m1500/1500\u001b[0m \u001b[32m━━━━━━━━━━━━━━━━━━━━\u001b[0m\u001b[37m\u001b[0m \u001b[1m9s\u001b[0m 6ms/step - accuracy: 0.9754 - loss: 0.0773 - precision_2: 0.9798 - recall_2: 0.9724 - val_accuracy: 0.9850 - val_loss: 0.0506 - val_precision_2: 0.9878 - val_recall_2: 0.9833\n",
      "Epoch 6/30\n",
      "\u001b[1m1500/1500\u001b[0m \u001b[32m━━━━━━━━━━━━━━━━━━━━\u001b[0m\u001b[37m\u001b[0m \u001b[1m9s\u001b[0m 6ms/step - accuracy: 0.9788 - loss: 0.0684 - precision_2: 0.9818 - recall_2: 0.9761 - val_accuracy: 0.9858 - val_loss: 0.0477 - val_precision_2: 0.9885 - val_recall_2: 0.9845\n",
      "Epoch 7/30\n",
      "\u001b[1m1500/1500\u001b[0m \u001b[32m━━━━━━━━━━━━━━━━━━━━\u001b[0m\u001b[37m\u001b[0m \u001b[1m9s\u001b[0m 6ms/step - accuracy: 0.9811 - loss: 0.0592 - precision_2: 0.9839 - recall_2: 0.9790 - val_accuracy: 0.9867 - val_loss: 0.0437 - val_precision_2: 0.9894 - val_recall_2: 0.9855\n",
      "Epoch 8/30\n",
      "\u001b[1m1500/1500\u001b[0m \u001b[32m━━━━━━━━━━━━━━━━━━━━\u001b[0m\u001b[37m\u001b[0m \u001b[1m9s\u001b[0m 6ms/step - accuracy: 0.9836 - loss: 0.0541 - precision_2: 0.9857 - recall_2: 0.9815 - val_accuracy: 0.9878 - val_loss: 0.0407 - val_precision_2: 0.9900 - val_recall_2: 0.9864\n",
      "Epoch 9/30\n",
      "\u001b[1m1500/1500\u001b[0m \u001b[32m━━━━━━━━━━━━━━━━━━━━\u001b[0m\u001b[37m\u001b[0m \u001b[1m9s\u001b[0m 6ms/step - accuracy: 0.9835 - loss: 0.0501 - precision_2: 0.9856 - recall_2: 0.9815 - val_accuracy: 0.9877 - val_loss: 0.0406 - val_precision_2: 0.9899 - val_recall_2: 0.9865\n",
      "Epoch 10/30\n",
      "\u001b[1m1500/1500\u001b[0m \u001b[32m━━━━━━━━━━━━━━━━━━━━\u001b[0m\u001b[37m\u001b[0m \u001b[1m9s\u001b[0m 6ms/step - accuracy: 0.9859 - loss: 0.0452 - precision_2: 0.9880 - recall_2: 0.9841 - val_accuracy: 0.9889 - val_loss: 0.0382 - val_precision_2: 0.9906 - val_recall_2: 0.9877\n",
      "Epoch 11/30\n",
      "\u001b[1m1500/1500\u001b[0m \u001b[32m━━━━━━━━━━━━━━━━━━━━\u001b[0m\u001b[37m\u001b[0m \u001b[1m9s\u001b[0m 6ms/step - accuracy: 0.9869 - loss: 0.0430 - precision_2: 0.9889 - recall_2: 0.9856 - val_accuracy: 0.9890 - val_loss: 0.0362 - val_precision_2: 0.9911 - val_recall_2: 0.9880\n",
      "Epoch 12/30\n",
      "\u001b[1m1500/1500\u001b[0m \u001b[32m━━━━━━━━━━━━━━━━━━━━\u001b[0m\u001b[37m\u001b[0m \u001b[1m9s\u001b[0m 6ms/step - accuracy: 0.9866 - loss: 0.0407 - precision_2: 0.9885 - recall_2: 0.9854 - val_accuracy: 0.9898 - val_loss: 0.0360 - val_precision_2: 0.9915 - val_recall_2: 0.9889\n",
      "Epoch 13/30\n",
      "\u001b[1m1500/1500\u001b[0m \u001b[32m━━━━━━━━━━━━━━━━━━━━\u001b[0m\u001b[37m\u001b[0m \u001b[1m9s\u001b[0m 6ms/step - accuracy: 0.9890 - loss: 0.0351 - precision_2: 0.9907 - recall_2: 0.9881 - val_accuracy: 0.9909 - val_loss: 0.0341 - val_precision_2: 0.9918 - val_recall_2: 0.9901\n",
      "Epoch 14/30\n",
      "\u001b[1m1500/1500\u001b[0m \u001b[32m━━━━━━━━━━━━━━━━━━━━\u001b[0m\u001b[37m\u001b[0m \u001b[1m9s\u001b[0m 6ms/step - accuracy: 0.9902 - loss: 0.0322 - precision_2: 0.9915 - recall_2: 0.9887 - val_accuracy: 0.9894 - val_loss: 0.0345 - val_precision_2: 0.9912 - val_recall_2: 0.9886\n",
      "Epoch 15/30\n",
      "\u001b[1m1500/1500\u001b[0m \u001b[32m━━━━━━━━━━━━━━━━━━━━\u001b[0m\u001b[37m\u001b[0m \u001b[1m9s\u001b[0m 6ms/step - accuracy: 0.9897 - loss: 0.0322 - precision_2: 0.9907 - recall_2: 0.9887 - val_accuracy: 0.9899 - val_loss: 0.0344 - val_precision_2: 0.9908 - val_recall_2: 0.9894\n",
      "Epoch 16/30\n",
      "\u001b[1m1500/1500\u001b[0m \u001b[32m━━━━━━━━━━━━━━━━━━━━\u001b[0m\u001b[37m\u001b[0m \u001b[1m9s\u001b[0m 6ms/step - accuracy: 0.9904 - loss: 0.0302 - precision_2: 0.9917 - recall_2: 0.9896 - val_accuracy: 0.9908 - val_loss: 0.0329 - val_precision_2: 0.9918 - val_recall_2: 0.9898\n",
      "Epoch 17/30\n",
      "\u001b[1m1500/1500\u001b[0m \u001b[32m━━━━━━━━━━━━━━━━━━━━\u001b[0m\u001b[37m\u001b[0m \u001b[1m9s\u001b[0m 6ms/step - accuracy: 0.9919 - loss: 0.0270 - precision_2: 0.9926 - recall_2: 0.9909 - val_accuracy: 0.9918 - val_loss: 0.0309 - val_precision_2: 0.9927 - val_recall_2: 0.9912\n",
      "Epoch 18/30\n",
      "\u001b[1m1500/1500\u001b[0m \u001b[32m━━━━━━━━━━━━━━━━━━━━\u001b[0m\u001b[37m\u001b[0m \u001b[1m9s\u001b[0m 6ms/step - accuracy: 0.9921 - loss: 0.0259 - precision_2: 0.9929 - recall_2: 0.9915 - val_accuracy: 0.9909 - val_loss: 0.0323 - val_precision_2: 0.9915 - val_recall_2: 0.9902\n",
      "Epoch 19/30\n",
      "\u001b[1m1500/1500\u001b[0m \u001b[32m━━━━━━━━━━━━━━━━━━━━\u001b[0m\u001b[37m\u001b[0m \u001b[1m9s\u001b[0m 6ms/step - accuracy: 0.9918 - loss: 0.0256 - precision_2: 0.9928 - recall_2: 0.9913 - val_accuracy: 0.9902 - val_loss: 0.0329 - val_precision_2: 0.9912 - val_recall_2: 0.9894\n",
      "Epoch 20/30\n",
      "\u001b[1m1500/1500\u001b[0m \u001b[32m━━━━━━━━━━━━━━━━━━━━\u001b[0m\u001b[37m\u001b[0m \u001b[1m9s\u001b[0m 6ms/step - accuracy: 0.9924 - loss: 0.0235 - precision_2: 0.9931 - recall_2: 0.9920 - val_accuracy: 0.9912 - val_loss: 0.0325 - val_precision_2: 0.9919 - val_recall_2: 0.9908\n",
      "Epoch 21/30\n",
      "\u001b[1m1500/1500\u001b[0m \u001b[32m━━━━━━━━━━━━━━━━━━━━\u001b[0m\u001b[37m\u001b[0m \u001b[1m9s\u001b[0m 6ms/step - accuracy: 0.9934 - loss: 0.0215 - precision_2: 0.9938 - recall_2: 0.9926 - val_accuracy: 0.9911 - val_loss: 0.0313 - val_precision_2: 0.9919 - val_recall_2: 0.9907\n",
      "Epoch 22/30\n",
      "\u001b[1m1500/1500\u001b[0m \u001b[32m━━━━━━━━━━━━━━━━━━━━\u001b[0m\u001b[37m\u001b[0m \u001b[1m9s\u001b[0m 6ms/step - accuracy: 0.9938 - loss: 0.0203 - precision_2: 0.9946 - recall_2: 0.9933 - val_accuracy: 0.9907 - val_loss: 0.0318 - val_precision_2: 0.9912 - val_recall_2: 0.9902\n",
      "Epoch 23/30\n",
      "\u001b[1m1500/1500\u001b[0m \u001b[32m━━━━━━━━━━━━━━━━━━━━\u001b[0m\u001b[37m\u001b[0m \u001b[1m9s\u001b[0m 6ms/step - accuracy: 0.9926 - loss: 0.0208 - precision_2: 0.9934 - recall_2: 0.9919 - val_accuracy: 0.9915 - val_loss: 0.0319 - val_precision_2: 0.9921 - val_recall_2: 0.9912\n",
      "Epoch 24/30\n",
      "\u001b[1m1500/1500\u001b[0m \u001b[32m━━━━━━━━━━━━━━━━━━━━\u001b[0m\u001b[37m\u001b[0m \u001b[1m9s\u001b[0m 6ms/step - accuracy: 0.9936 - loss: 0.0194 - precision_2: 0.9943 - recall_2: 0.9931 - val_accuracy: 0.9914 - val_loss: 0.0315 - val_precision_2: 0.9918 - val_recall_2: 0.9912\n",
      "Epoch 25/30\n",
      "\u001b[1m1500/1500\u001b[0m \u001b[32m━━━━━━━━━━━━━━━━━━━━\u001b[0m\u001b[37m\u001b[0m \u001b[1m9s\u001b[0m 6ms/step - accuracy: 0.9943 - loss: 0.0187 - precision_2: 0.9948 - recall_2: 0.9941 - val_accuracy: 0.9918 - val_loss: 0.0309 - val_precision_2: 0.9927 - val_recall_2: 0.9914\n",
      "Epoch 26/30\n",
      "\u001b[1m1500/1500\u001b[0m \u001b[32m━━━━━━━━━━━━━━━━━━━━\u001b[0m\u001b[37m\u001b[0m \u001b[1m9s\u001b[0m 6ms/step - accuracy: 0.9938 - loss: 0.0188 - precision_2: 0.9942 - recall_2: 0.9933 - val_accuracy: 0.9911 - val_loss: 0.0319 - val_precision_2: 0.9918 - val_recall_2: 0.9907\n",
      "Epoch 27/30\n",
      "\u001b[1m1500/1500\u001b[0m \u001b[32m━━━━━━━━━━━━━━━━━━━━\u001b[0m\u001b[37m\u001b[0m \u001b[1m9s\u001b[0m 6ms/step - accuracy: 0.9944 - loss: 0.0176 - precision_2: 0.9950 - recall_2: 0.9941 - val_accuracy: 0.9915 - val_loss: 0.0317 - val_precision_2: 0.9923 - val_recall_2: 0.9912\n",
      "Epoch 28/30\n",
      "\u001b[1m1500/1500\u001b[0m \u001b[32m━━━━━━━━━━━━━━━━━━━━\u001b[0m\u001b[37m\u001b[0m \u001b[1m9s\u001b[0m 6ms/step - accuracy: 0.9952 - loss: 0.0167 - precision_2: 0.9954 - recall_2: 0.9949 - val_accuracy: 0.9913 - val_loss: 0.0301 - val_precision_2: 0.9922 - val_recall_2: 0.9911\n",
      "Epoch 29/30\n",
      "\u001b[1m1500/1500\u001b[0m \u001b[32m━━━━━━━━━━━━━━━━━━━━\u001b[0m\u001b[37m\u001b[0m \u001b[1m9s\u001b[0m 6ms/step - accuracy: 0.9949 - loss: 0.0157 - precision_2: 0.9952 - recall_2: 0.9944 - val_accuracy: 0.9913 - val_loss: 0.0311 - val_precision_2: 0.9920 - val_recall_2: 0.9912\n",
      "Epoch 30/30\n",
      "\u001b[1m1500/1500\u001b[0m \u001b[32m━━━━━━━━━━━━━━━━━━━━\u001b[0m\u001b[37m\u001b[0m \u001b[1m9s\u001b[0m 6ms/step - accuracy: 0.9952 - loss: 0.0150 - precision_2: 0.9955 - recall_2: 0.9948 - val_accuracy: 0.9920 - val_loss: 0.0307 - val_precision_2: 0.9926 - val_recall_2: 0.9917\n",
      "\u001b[1m313/313\u001b[0m \u001b[32m━━━━━━━━━━━━━━━━━━━━\u001b[0m\u001b[37m\u001b[0m \u001b[1m1s\u001b[0m 2ms/step\n",
      "\u001b[1m313/313\u001b[0m \u001b[32m━━━━━━━━━━━━━━━━━━━━\u001b[0m\u001b[37m\u001b[0m \u001b[1m1s\u001b[0m 2ms/step - accuracy: 0.9899 - loss: 0.0286 - precision_2: 0.9907 - recall_2: 0.9897\n",
      "Model3: Experiment #3, ACCURACY: Test Accuracy 0.9917, Training Accuracy 0.9952, Validation Accuracy 0.9920, (Test Loss 0.0234, Test Precision 0.9923, Test Recall 0.9915)\n"
     ]
    },
    {
     "data": {
      "text/html": [
       "<pre style=\"white-space:pre;overflow-x:auto;line-height:normal;font-family:Menlo,'DejaVu Sans Mono',consolas,'Courier New',monospace\"><span style=\"font-weight: bold\">Model: \"Model3\"</span>\n",
       "</pre>\n"
      ],
      "text/plain": [
       "\u001b[1mModel: \"Model3\"\u001b[0m\n"
      ]
     },
     "metadata": {},
     "output_type": "display_data"
    },
    {
     "data": {
      "text/html": [
       "<pre style=\"white-space:pre;overflow-x:auto;line-height:normal;font-family:Menlo,'DejaVu Sans Mono',consolas,'Courier New',monospace\">┏━━━━━━━━━━━━━━━━━━━━━━━━━━━━━━━━━┳━━━━━━━━━━━━━━━━━━━━━━━━┳━━━━━━━━━━━━━━━┓\n",
       "┃<span style=\"font-weight: bold\"> Layer (type)                    </span>┃<span style=\"font-weight: bold\"> Output Shape           </span>┃<span style=\"font-weight: bold\">       Param # </span>┃\n",
       "┡━━━━━━━━━━━━━━━━━━━━━━━━━━━━━━━━━╇━━━━━━━━━━━━━━━━━━━━━━━━╇━━━━━━━━━━━━━━━┩\n",
       "│ conv2d_4 (<span style=\"color: #0087ff; text-decoration-color: #0087ff\">Conv2D</span>)               │ (<span style=\"color: #00d7ff; text-decoration-color: #00d7ff\">None</span>, <span style=\"color: #00af00; text-decoration-color: #00af00\">28</span>, <span style=\"color: #00af00; text-decoration-color: #00af00\">28</span>, <span style=\"color: #00af00; text-decoration-color: #00af00\">15</span>)     │           <span style=\"color: #00af00; text-decoration-color: #00af00\">390</span> │\n",
       "├─────────────────────────────────┼────────────────────────┼───────────────┤\n",
       "│ max_pooling2d_4 (<span style=\"color: #0087ff; text-decoration-color: #0087ff\">MaxPooling2D</span>)  │ (<span style=\"color: #00d7ff; text-decoration-color: #00d7ff\">None</span>, <span style=\"color: #00af00; text-decoration-color: #00af00\">14</span>, <span style=\"color: #00af00; text-decoration-color: #00af00\">14</span>, <span style=\"color: #00af00; text-decoration-color: #00af00\">15</span>)     │             <span style=\"color: #00af00; text-decoration-color: #00af00\">0</span> │\n",
       "├─────────────────────────────────┼────────────────────────┼───────────────┤\n",
       "│ conv2d_5 (<span style=\"color: #0087ff; text-decoration-color: #0087ff\">Conv2D</span>)               │ (<span style=\"color: #00d7ff; text-decoration-color: #00d7ff\">None</span>, <span style=\"color: #00af00; text-decoration-color: #00af00\">14</span>, <span style=\"color: #00af00; text-decoration-color: #00af00\">14</span>, <span style=\"color: #00af00; text-decoration-color: #00af00\">15</span>)     │         <span style=\"color: #00af00; text-decoration-color: #00af00\">5,640</span> │\n",
       "├─────────────────────────────────┼────────────────────────┼───────────────┤\n",
       "│ max_pooling2d_5 (<span style=\"color: #0087ff; text-decoration-color: #0087ff\">MaxPooling2D</span>)  │ (<span style=\"color: #00d7ff; text-decoration-color: #00d7ff\">None</span>, <span style=\"color: #00af00; text-decoration-color: #00af00\">7</span>, <span style=\"color: #00af00; text-decoration-color: #00af00\">7</span>, <span style=\"color: #00af00; text-decoration-color: #00af00\">15</span>)       │             <span style=\"color: #00af00; text-decoration-color: #00af00\">0</span> │\n",
       "├─────────────────────────────────┼────────────────────────┼───────────────┤\n",
       "│ flatten_2 (<span style=\"color: #0087ff; text-decoration-color: #0087ff\">Flatten</span>)             │ (<span style=\"color: #00d7ff; text-decoration-color: #00d7ff\">None</span>, <span style=\"color: #00af00; text-decoration-color: #00af00\">735</span>)            │             <span style=\"color: #00af00; text-decoration-color: #00af00\">0</span> │\n",
       "├─────────────────────────────────┼────────────────────────┼───────────────┤\n",
       "│ dropout_4 (<span style=\"color: #0087ff; text-decoration-color: #0087ff\">Dropout</span>)             │ (<span style=\"color: #00d7ff; text-decoration-color: #00d7ff\">None</span>, <span style=\"color: #00af00; text-decoration-color: #00af00\">735</span>)            │             <span style=\"color: #00af00; text-decoration-color: #00af00\">0</span> │\n",
       "├─────────────────────────────────┼────────────────────────┼───────────────┤\n",
       "│ dense_4 (<span style=\"color: #0087ff; text-decoration-color: #0087ff\">Dense</span>)                 │ (<span style=\"color: #00d7ff; text-decoration-color: #00d7ff\">None</span>, <span style=\"color: #00af00; text-decoration-color: #00af00\">256</span>)            │       <span style=\"color: #00af00; text-decoration-color: #00af00\">188,416</span> │\n",
       "├─────────────────────────────────┼────────────────────────┼───────────────┤\n",
       "│ dropout_5 (<span style=\"color: #0087ff; text-decoration-color: #0087ff\">Dropout</span>)             │ (<span style=\"color: #00d7ff; text-decoration-color: #00d7ff\">None</span>, <span style=\"color: #00af00; text-decoration-color: #00af00\">256</span>)            │             <span style=\"color: #00af00; text-decoration-color: #00af00\">0</span> │\n",
       "├─────────────────────────────────┼────────────────────────┼───────────────┤\n",
       "│ dense_5 (<span style=\"color: #0087ff; text-decoration-color: #0087ff\">Dense</span>)                 │ (<span style=\"color: #00d7ff; text-decoration-color: #00d7ff\">None</span>, <span style=\"color: #00af00; text-decoration-color: #00af00\">10</span>)             │         <span style=\"color: #00af00; text-decoration-color: #00af00\">2,570</span> │\n",
       "└─────────────────────────────────┴────────────────────────┴───────────────┘\n",
       "</pre>\n"
      ],
      "text/plain": [
       "┏━━━━━━━━━━━━━━━━━━━━━━━━━━━━━━━━━┳━━━━━━━━━━━━━━━━━━━━━━━━┳━━━━━━━━━━━━━━━┓\n",
       "┃\u001b[1m \u001b[0m\u001b[1mLayer (type)                   \u001b[0m\u001b[1m \u001b[0m┃\u001b[1m \u001b[0m\u001b[1mOutput Shape          \u001b[0m\u001b[1m \u001b[0m┃\u001b[1m \u001b[0m\u001b[1m      Param #\u001b[0m\u001b[1m \u001b[0m┃\n",
       "┡━━━━━━━━━━━━━━━━━━━━━━━━━━━━━━━━━╇━━━━━━━━━━━━━━━━━━━━━━━━╇━━━━━━━━━━━━━━━┩\n",
       "│ conv2d_4 (\u001b[38;5;33mConv2D\u001b[0m)               │ (\u001b[38;5;45mNone\u001b[0m, \u001b[38;5;34m28\u001b[0m, \u001b[38;5;34m28\u001b[0m, \u001b[38;5;34m15\u001b[0m)     │           \u001b[38;5;34m390\u001b[0m │\n",
       "├─────────────────────────────────┼────────────────────────┼───────────────┤\n",
       "│ max_pooling2d_4 (\u001b[38;5;33mMaxPooling2D\u001b[0m)  │ (\u001b[38;5;45mNone\u001b[0m, \u001b[38;5;34m14\u001b[0m, \u001b[38;5;34m14\u001b[0m, \u001b[38;5;34m15\u001b[0m)     │             \u001b[38;5;34m0\u001b[0m │\n",
       "├─────────────────────────────────┼────────────────────────┼───────────────┤\n",
       "│ conv2d_5 (\u001b[38;5;33mConv2D\u001b[0m)               │ (\u001b[38;5;45mNone\u001b[0m, \u001b[38;5;34m14\u001b[0m, \u001b[38;5;34m14\u001b[0m, \u001b[38;5;34m15\u001b[0m)     │         \u001b[38;5;34m5,640\u001b[0m │\n",
       "├─────────────────────────────────┼────────────────────────┼───────────────┤\n",
       "│ max_pooling2d_5 (\u001b[38;5;33mMaxPooling2D\u001b[0m)  │ (\u001b[38;5;45mNone\u001b[0m, \u001b[38;5;34m7\u001b[0m, \u001b[38;5;34m7\u001b[0m, \u001b[38;5;34m15\u001b[0m)       │             \u001b[38;5;34m0\u001b[0m │\n",
       "├─────────────────────────────────┼────────────────────────┼───────────────┤\n",
       "│ flatten_2 (\u001b[38;5;33mFlatten\u001b[0m)             │ (\u001b[38;5;45mNone\u001b[0m, \u001b[38;5;34m735\u001b[0m)            │             \u001b[38;5;34m0\u001b[0m │\n",
       "├─────────────────────────────────┼────────────────────────┼───────────────┤\n",
       "│ dropout_4 (\u001b[38;5;33mDropout\u001b[0m)             │ (\u001b[38;5;45mNone\u001b[0m, \u001b[38;5;34m735\u001b[0m)            │             \u001b[38;5;34m0\u001b[0m │\n",
       "├─────────────────────────────────┼────────────────────────┼───────────────┤\n",
       "│ dense_4 (\u001b[38;5;33mDense\u001b[0m)                 │ (\u001b[38;5;45mNone\u001b[0m, \u001b[38;5;34m256\u001b[0m)            │       \u001b[38;5;34m188,416\u001b[0m │\n",
       "├─────────────────────────────────┼────────────────────────┼───────────────┤\n",
       "│ dropout_5 (\u001b[38;5;33mDropout\u001b[0m)             │ (\u001b[38;5;45mNone\u001b[0m, \u001b[38;5;34m256\u001b[0m)            │             \u001b[38;5;34m0\u001b[0m │\n",
       "├─────────────────────────────────┼────────────────────────┼───────────────┤\n",
       "│ dense_5 (\u001b[38;5;33mDense\u001b[0m)                 │ (\u001b[38;5;45mNone\u001b[0m, \u001b[38;5;34m10\u001b[0m)             │         \u001b[38;5;34m2,570\u001b[0m │\n",
       "└─────────────────────────────────┴────────────────────────┴───────────────┘\n"
      ]
     },
     "metadata": {},
     "output_type": "display_data"
    },
    {
     "data": {
      "text/html": [
       "<pre style=\"white-space:pre;overflow-x:auto;line-height:normal;font-family:Menlo,'DejaVu Sans Mono',consolas,'Courier New',monospace\"><span style=\"font-weight: bold\"> Total params: </span><span style=\"color: #00af00; text-decoration-color: #00af00\">591,050</span> (2.25 MB)\n",
       "</pre>\n"
      ],
      "text/plain": [
       "\u001b[1m Total params: \u001b[0m\u001b[38;5;34m591,050\u001b[0m (2.25 MB)\n"
      ]
     },
     "metadata": {},
     "output_type": "display_data"
    },
    {
     "data": {
      "text/html": [
       "<pre style=\"white-space:pre;overflow-x:auto;line-height:normal;font-family:Menlo,'DejaVu Sans Mono',consolas,'Courier New',monospace\"><span style=\"font-weight: bold\"> Trainable params: </span><span style=\"color: #00af00; text-decoration-color: #00af00\">197,016</span> (769.59 KB)\n",
       "</pre>\n"
      ],
      "text/plain": [
       "\u001b[1m Trainable params: \u001b[0m\u001b[38;5;34m197,016\u001b[0m (769.59 KB)\n"
      ]
     },
     "metadata": {},
     "output_type": "display_data"
    },
    {
     "data": {
      "text/html": [
       "<pre style=\"white-space:pre;overflow-x:auto;line-height:normal;font-family:Menlo,'DejaVu Sans Mono',consolas,'Courier New',monospace\"><span style=\"font-weight: bold\"> Non-trainable params: </span><span style=\"color: #00af00; text-decoration-color: #00af00\">0</span> (0.00 B)\n",
       "</pre>\n"
      ],
      "text/plain": [
       "\u001b[1m Non-trainable params: \u001b[0m\u001b[38;5;34m0\u001b[0m (0.00 B)\n"
      ]
     },
     "metadata": {},
     "output_type": "display_data"
    },
    {
     "data": {
      "text/html": [
       "<pre style=\"white-space:pre;overflow-x:auto;line-height:normal;font-family:Menlo,'DejaVu Sans Mono',consolas,'Courier New',monospace\"><span style=\"font-weight: bold\"> Optimizer params: </span><span style=\"color: #00af00; text-decoration-color: #00af00\">394,034</span> (1.50 MB)\n",
       "</pre>\n"
      ],
      "text/plain": [
       "\u001b[1m Optimizer params: \u001b[0m\u001b[38;5;34m394,034\u001b[0m (1.50 MB)\n"
      ]
     },
     "metadata": {},
     "output_type": "display_data"
    },
    {
     "name": "stdout",
     "output_type": "stream",
     "text": [
      "Confusion Matrix\n",
      "[[ 976    0    0    0    0    0    2    1    1    0]\n",
      " [   0 1134    1    0    0    0    0    0    0    0]\n",
      " [   0    1 1025    0    0    0    0    4    2    0]\n",
      " [   0    0    1 1004    0    2    0    0    2    1]\n",
      " [   0    0    0    0  979    0    0    0    0    3]\n",
      " [   1    0    0    7    0  880    1    1    0    2]\n",
      " [   2    2    0    0    2    2  947    0    3    0]\n",
      " [   0    3    2    2    0    0    0 1015    1    5]\n",
      " [   2    0    3    1    0    1    0    1  962    4]\n",
      " [   0    3    0    1    7    1    0    0    2  995]]\n",
      "Model Summary\n",
      "None\n",
      "Finished Run #3 of 3, duration 264.6524 seconds\n"
     ]
    },
    {
     "data": {
      "image/png": "[encoded data removed]",
      "text/plain": [
       "<Figure size 1500x400 with 3 Axes>"
      ]
     },
     "metadata": {},
     "output_type": "display_data"
    }
   ],
   "source": [
    "# ------------------------------------------------------\n",
    "# Required imports\n",
    "# ------------------------------------------------------\n",
    "import tensorflow as tf\n",
    "from tensorflow import keras\n",
    "from tensorflow.keras import regularizers\n",
    "from tensorflow.keras import layers\n",
    "from tensorflow.keras.optimizers import Adam\n",
    "from tensorflow.keras.metrics import Precision, Recall\n",
    "from tensorflow.keras.initializers import HeNormal\n",
    "from tensorflow.keras.regularizers import l2\n",
    "from keras.callbacks import EarlyStopping\n",
    "import itertools\n",
    "import numpy as np\n",
    "from sklearn.metrics import confusion_matrix\n",
    "import time\n",
    "import matplotlib.pyplot as plt\n",
    "\n",
    "\n",
    "# ------------------------------------------------------\n",
    "# Constants\n",
    "# ------------------------------------------------------\n",
    "NUM_RUNS = 3\n",
    "NUM_CLASSIFICATIONS = 10\n",
    "INPUT_SHAPE = (28, 28, 1)\n",
    "EPOCH_ITERATIONS = 30\n",
    "VERBOSE_FLAG = 1\n",
    "EXPLORE_MODE = 0\n",
    "\n",
    "# ------------------------------------------------------\n",
    "# Hyperparameter set of values\n",
    "# ------------------------------------------------------\n",
    "model_id_list = [3]\n",
    "dropout_rate_list = [0.2]\n",
    "batch_size_list = [32]\n",
    "val_split_list = [0.2]\n",
    "learn_rate_list = [0.0001]\n",
    "kernel_size_list = [5]\n",
    "filter_size_list = [15]\n",
    "regularizer_list = [0.000001]\n",
    "seed_value_list = [42]\n",
    "\n",
    "\n",
    "# ------------------------------------------------------\n",
    "# globals\n",
    "# ------------------------------------------------------\n",
    "experiment_count = 0\n",
    "training_accuracy = {model_id: [] for model_id in model_id_list}\n",
    "validation_accuracy = {model_id: [] for model_id in model_id_list}\n",
    "\n",
    "# ------------------------------------------------------\n",
    "# not being used - we always run EPOCH_ITERATIONS\n",
    "# ------------------------------------------------------\n",
    "early_stopping = EarlyStopping(monitor='val_loss', patience=4)\n",
    "fit_callbacks = [early_stopping]\n",
    "\n",
    "\n",
    "# ------------------------------------------------------\n",
    "# create the specific set of models to be explored\n",
    "# ------------------------------------------------------\n",
    "def create_model(model_id, filter_size, kernel_size, dropout_rate, regularizer, seed_value):\n",
    "    tf.random.set_seed(seed_value)\n",
    "\n",
    "    # Define model structures based on model_id\n",
    "    if model_id == 1:\n",
    "        model = keras.Sequential([\n",
    "            layers.Input(shape=INPUT_SHAPE),\n",
    "            layers.Conv2D(filter_size, kernel_size=(kernel_size, kernel_size), activation=\"relu\"),\n",
    "            layers.MaxPooling2D(pool_size=(2, 2)),\n",
    "            layers.Conv2D(filter_size * 2, kernel_size=(kernel_size, kernel_size), activation=\"relu\"),\n",
    "            layers.MaxPooling2D(pool_size=(2, 2)),\n",
    "            layers.Flatten(),\n",
    "            layers.Dropout(dropout_rate),\n",
    "            layers.Dense(10, activation=\"softmax\")\n",
    "        ], name='Model1')\n",
    "        model_description = \"Conv2D with two Conv layers, two MaxPool, Dropout, and Dense output.\"\n",
    "    \n",
    "    elif model_id == 2:\n",
    "        model = keras.Sequential([\n",
    "            layers.Input(shape=INPUT_SHAPE),\n",
    "            layers.Conv2D(filter_size, kernel_size=(kernel_size, kernel_size), activation=\"relu\"),\n",
    "            layers.MaxPooling2D(pool_size=(2, 2)),\n",
    "            layers.Dropout(dropout_rate), \n",
    "            layers.Conv2D(filter_size * 2, kernel_size=(kernel_size, kernel_size), activation=\"relu\"),\n",
    "            layers.MaxPooling2D(pool_size=(2, 2)),\n",
    "            layers.Dropout(dropout_rate), \n",
    "            layers.Flatten(),\n",
    "            layers.Dense(filter_size * 4, activation=\"relu\"),\n",
    "            layers.Dense(10, activation=\"softmax\")\n",
    "        ], name='Model2')\n",
    "        model_description = \"Conv2D with two of Conv,MaxPool,Dropout layers, with one internal Dense layer followed by Dense output.\"\n",
    "\n",
    "    elif model_id == 3:\n",
    "        model = keras.Sequential([\n",
    "            layers.Input(shape=INPUT_SHAPE),\n",
    "            layers.Conv2D(filter_size, kernel_size=(kernel_size, kernel_size), padding='same', activation=\"relu\", \n",
    "                          kernel_initializer=HeNormal(seed=seed_value)),\n",
    "            layers.MaxPooling2D(pool_size=(2, 2)),\n",
    "            layers.Conv2D(filter_size, kernel_size=(kernel_size, kernel_size), padding='same', activation=\"relu\", \n",
    "                          kernel_initializer=HeNormal(seed=seed_value), \n",
    "                          kernel_regularizer=regularizers.l2(regularizer)),\n",
    "            layers.MaxPooling2D(pool_size=(2, 2)),\n",
    "            layers.Flatten(),\n",
    "            layers.Dropout(dropout_rate),\n",
    "            layers.Dense(256, activation=\"relu\", kernel_regularizer=regularizers.l2(regularizer)),   \n",
    "            layers.Dropout(dropout_rate),\n",
    "            layers.Dense(10, activation=\"softmax\")\n",
    "        ], name='Model3')\n",
    "        model_description = \"Structure based on Lecture notes detail\"\n",
    "    \n",
    "    else:\n",
    "        raise ValueError(\"Invalid model_id. Please use 1, 2, or 3.\")\n",
    "    \n",
    "    return model, model_description\n",
    "\n",
    "\n",
    "# ------------------------------------------------------\n",
    "# Load and preprocess dataset\n",
    "# ------------------------------------------------------\n",
    "def load_and_preprocess_data():\n",
    "\n",
    "    # Load and pre-process MNIST dataset\n",
    "    (x_train, y_train), (x_test, y_test) = keras.datasets.mnist.load_data()\n",
    "    x_train = x_train.astype(\"float32\") / 255.0\n",
    "    x_test = x_test.astype(\"float32\") / 255.0\n",
    "    y_train = keras.utils.to_categorical(y_train, num_classes=NUM_CLASSIFICATIONS)\n",
    "    y_test = keras.utils.to_categorical(y_test, num_classes=NUM_CLASSIFICATIONS)\n",
    "    \n",
    "    return (x_train, y_train), (x_test, y_test)\n",
    "\n",
    "\n",
    "# ------------------------------------------------------\n",
    "# Compile and train the model\n",
    "# ------------------------------------------------------\n",
    "def compile_and_train_model(model, x_train, y_train, batch_size, learn_rate, val_split):\n",
    "    # compile the model\n",
    "    model.compile(\n",
    "        loss=\"categorical_crossentropy\",\n",
    "        optimizer=Adam(learning_rate=learn_rate),\n",
    "        metrics=['accuracy', Precision(), Recall()]\n",
    "    )\n",
    "    # train the model\n",
    "    history = model.fit(x_train, y_train, batch_size=batch_size, epochs=EPOCH_ITERATIONS, validation_split=val_split,shuffle=True,verbose=VERBOSE_FLAG) #callbacks=fit_callbacks)     \n",
    "    \n",
    "    return history\n",
    "\n",
    "\n",
    "# ------------------------------------------------------\n",
    "# Plot Training/Validation Accuracy \n",
    "# ------------------------------------------------------\n",
    "def plot_training_metrics():\n",
    "    nrows = len(model_id_list)\n",
    "    ncols = NUM_RUNS\n",
    "    fig, axes = plt.subplots(nrows=nrows, ncols=ncols, figsize=(ncols * 5, nrows * 4))\n",
    "    fig.suptitle('Train and Validation Accuracy Across Models and Runs', fontweight='bold')\n",
    "    colors = plt.cm.tab10.colors\n",
    "\n",
    "    for row, model_id in enumerate(model_id_list):\n",
    "        # Check if each model has collected data for NUM_RUNS\n",
    "        if len(training_accuracy[model_id]) < NUM_RUNS:\n",
    "            print(f\"Warning: Model {model_id} has incomplete data for runs. Expected {NUM_RUNS}, got {len(training_accuracy[model_id])}\")\n",
    "            continue\n",
    "        \n",
    "        for col in range(NUM_RUNS):\n",
    "            ax = axes[row, col] if nrows > 1 else axes[col]\n",
    "            try:\n",
    "                acc = training_accuracy[model_id][col]\n",
    "                val_acc = validation_accuracy[model_id][col]\n",
    "                color = colors[col % len(colors)]\n",
    "                \n",
    "                ax.plot(acc, color=color, linestyle='-', label='Train Accuracy')\n",
    "                ax.plot(val_acc, color=color, linestyle='--', label='Val Accuracy')\n",
    "                ax.set_title(f'Model {model_id} - Run {col + 1}')\n",
    "                ax.set_xlabel('Epoch')\n",
    "                ax.set_ylabel('Accuracy')\n",
    "                ax.legend(loc='best')\n",
    "            except IndexError:\n",
    "                print(f\"Error: Model {model_id} run {col + 1} data is missing.\")\n",
    "    \n",
    "    plt.tight_layout(rect=[0, 0.03, 1, 0.95])\n",
    "    plt.show()\n",
    "\n",
    "\n",
    "\n",
    "# ------------------------------------------------------\n",
    "# Run experiments\n",
    "# ------------------------------------------------------\n",
    "def run_experiments():\n",
    "    (x_train, y_train), (x_test, y_test) = load_and_preprocess_data()\n",
    "    \n",
    "    global experiment_count\n",
    "    for params in itertools.product(model_id_list,dropout_rate_list, batch_size_list, val_split_list, learn_rate_list, kernel_size_list, filter_size_list, regularizer_list, seed_value_list):\n",
    "        model_id, dropout_rate, batch_size, val_split, learn_rate, kernel_size, filter_size, regularizer, seed_value = params  \n",
    "        \n",
    "        global training_accuracy, validation_accuracy\n",
    "        experiment_count+=1\n",
    "        \n",
    "        # Create model with model description\n",
    "        model, model_description = create_model(model_id,filter_size, kernel_size, dropout_rate, regularizer, seed_value)\n",
    "        \n",
    "        # Train and evaluate\n",
    "        history = compile_and_train_model(model, x_train, y_train, batch_size, learn_rate, val_split)         \n",
    "              \n",
    "        # predict using the test data\n",
    "        predictions = model.predict(x_test)\n",
    "        predicted_labels = np.argmax(predictions, axis=1)\n",
    "        true_labels = np.argmax(y_test, axis=1)\n",
    "        conf_matrix = confusion_matrix(true_labels, predicted_labels)    \n",
    "        \n",
    "        # evaluate \n",
    "        results_model = model.evaluate(x_test, y_test, verbose=VERBOSE_FLAG)\n",
    "        \n",
    "        # log the data - just the accuracy detail for final delivery\n",
    "        num_epochs_run = early_stopping.stopped_epoch if early_stopping.stopped_epoch > 0 else EPOCH_ITERATIONS\n",
    "        log_header = ((f\"#Epochs: {num_epochs_run}, Dropout Rate: {dropout_rate}, Batch Size: {batch_size}, Validation Split: {val_split}, \"\n",
    "            f\"Learning Rate: {learn_rate}, Kernel Size: {kernel_size}, Filter Size: {filter_size}, Regularizer: {regularizer}, Seed: {seed_value}, \"\n",
    "            f\"Description: {model_description}, \"))\n",
    "        log_data = ((f\"Experiment #{experiment_count}, ACCURACY: Test Accuracy {results_model[1]:.4f}, Training Accuracy {history.history['accuracy'][-1]:.4f}, Validation Accuracy {history.history['val_accuracy'][-1]:.4f}, \"\n",
    "            f\"(Test Loss {results_model[0]:.4f}, Test Precision {results_model[2]:.4f}, Test Recall {results_model[3]:.4f})\"))\n",
    "        data_to_log = (f\"{model.name}\" + \": \" + log_data) if EXPLORE_MODE == 0 else (f\"{model.name}\" + \": \" + log_header + log_data)\n",
    "        print(data_to_log)\n",
    "        \n",
    "        # print out cm and 'model summary' detail\n",
    "        print(f'Confusion Matrix\\n{conf_matrix}\\nModel Summary\\n{model.summary()}')\n",
    "        \n",
    "        # gather accuracy numbers from plotting later\n",
    "        training_accuracy[model_id].append(history.history['accuracy'])\n",
    "        validation_accuracy[model_id].append(history.history['val_accuracy'])\n",
    "        \n",
    "               \n",
    "                    \n",
    "# ------------------------------------------------------\n",
    "# main\n",
    "# ------------------------------------------------------\n",
    "# go for it...\n",
    "experiment_count=0 # incremental counter that uniquely identifies the experiment\n",
    "for number_of_runs in range(NUM_RUNS):\n",
    "    start_time = time.time()\n",
    "    print(f'Start Run #{number_of_runs+1} of {NUM_RUNS}')\n",
    "    run_experiments()\n",
    "    end_time = time.time()\n",
    "    print(f'Finished Run #{number_of_runs+1} of {NUM_RUNS}, duration {(end_time-start_time):.4f} seconds')\n",
    "\n",
    "# plot results from training\n",
    "plot_training_metrics()\n",
    "\n",
    "# the end\n",
    "\n",
    "\n"
   ]
  },
  {
   "cell_type": "markdown",
   "metadata": {
    "id": "hRNNFokbIXa4"
   },
   "source": [
    "Application using Keras for MNIST Digit Classifier using 2 convolution layers , 2 drop out layers and 2 accumulation layers. Split the dataset into training and test data in the ratio 70 percent and 30 percent respectively."
   ]
  },
  {
   "cell_type": "markdown",
   "metadata": {
    "id": "WPxvrZuYrdCC"
   },
   "source": []
  },
  {
   "cell_type": "markdown",
   "metadata": {
    "id": "MqiWApzUI8hk"
   },
   "source": [
    "Display accuracy of Testing and Validation dataset"
   ]
  },
  {
   "cell_type": "markdown",
   "metadata": {
    "id": "qXcGog1PJNbA"
   },
   "source": [
    "Discuss the Project especially\n",
    "- How you choose to tackle it\n",
    "- What design decisions you made\n",
    "- What the results are like\n",
    "- What you might do better/differently next time you had to tackle a similar project\n",
    "- If plots are called for they should be in your code and in your report.\n",
    "- Marks for neat well designed code with appropriate level of comments\n",
    "- neat logically laid out and informative reports.\n",
    "- Provide classification accuracy for the training and test data. The test data should be split in the ration 70 to 80 and the baance for validation.\n",
    "\n",
    "\n"
   ]
  }
 ],
 "metadata": {
  "colab": {
   "provenance": []
  },
  "kernelspec": {
   "display_name": "base",
   "language": "python",
   "name": "python3"
  },
  "language_info": {
   "codemirror_mode": {
    "name": "ipython",
    "version": 3
   },
   "file_extension": ".py",
   "mimetype": "text/x-python",
   "name": "python",
   "nbconvert_exporter": "python",
   "pygments_lexer": "ipython3",
   "version": "3.12.4"
  }
 },
 "nbformat": 4,
 "nbformat_minor": 0
}
